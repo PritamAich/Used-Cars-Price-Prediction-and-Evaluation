{
 "cells": [
  {
   "cell_type": "markdown",
   "metadata": {},
   "source": [
    "## Importing Libraries"
   ]
  },
  {
   "cell_type": "code",
   "execution_count": 1,
   "metadata": {},
   "outputs": [],
   "source": [
    "import pandas as pd\n",
    "import numpy as np\n",
    "import pickle\n",
    "\n",
    "from sklearn.metrics import mean_squared_log_error\n",
    "\n",
    "import warnings\n",
    "warnings.filterwarnings(\"ignore\")"
   ]
  },
  {
   "cell_type": "code",
   "execution_count": 2,
   "metadata": {},
   "outputs": [
    {
     "data": {
      "text/html": [
       "<div>\n",
       "<style scoped>\n",
       "    .dataframe tbody tr th:only-of-type {\n",
       "        vertical-align: middle;\n",
       "    }\n",
       "\n",
       "    .dataframe tbody tr th {\n",
       "        vertical-align: top;\n",
       "    }\n",
       "\n",
       "    .dataframe thead th {\n",
       "        text-align: right;\n",
       "    }\n",
       "</style>\n",
       "<table border=\"1\" class=\"dataframe\">\n",
       "  <thead>\n",
       "    <tr style=\"text-align: right;\">\n",
       "      <th></th>\n",
       "      <th>B</th>\n",
       "      <th>C</th>\n",
       "      <th>D</th>\n",
       "      <th>E</th>\n",
       "      <th>F</th>\n",
       "      <th>J</th>\n",
       "      <th>M</th>\n",
       "      <th>S</th>\n",
       "      <th>front-wheel drive</th>\n",
       "      <th>part-time four-wheel drive</th>\n",
       "      <th>rear drive</th>\n",
       "      <th>electrocar</th>\n",
       "      <th>petrol</th>\n",
       "      <th>with damage</th>\n",
       "      <th>with mileage</th>\n",
       "      <th>make</th>\n",
       "      <th>priceUSD</th>\n",
       "      <th>year</th>\n",
       "      <th>mileage(kilometers)</th>\n",
       "      <th>volume(cm3)</th>\n",
       "    </tr>\n",
       "  </thead>\n",
       "  <tbody>\n",
       "    <tr>\n",
       "      <th>0</th>\n",
       "      <td>0</td>\n",
       "      <td>0</td>\n",
       "      <td>1</td>\n",
       "      <td>0</td>\n",
       "      <td>0</td>\n",
       "      <td>0</td>\n",
       "      <td>0</td>\n",
       "      <td>0</td>\n",
       "      <td>1</td>\n",
       "      <td>0</td>\n",
       "      <td>0</td>\n",
       "      <td>0</td>\n",
       "      <td>1</td>\n",
       "      <td>0</td>\n",
       "      <td>1</td>\n",
       "      <td>31</td>\n",
       "      <td>565</td>\n",
       "      <td>1993</td>\n",
       "      <td>960015.0</td>\n",
       "      <td>2000.0</td>\n",
       "    </tr>\n",
       "    <tr>\n",
       "      <th>1</th>\n",
       "      <td>0</td>\n",
       "      <td>0</td>\n",
       "      <td>0</td>\n",
       "      <td>0</td>\n",
       "      <td>0</td>\n",
       "      <td>0</td>\n",
       "      <td>1</td>\n",
       "      <td>0</td>\n",
       "      <td>1</td>\n",
       "      <td>0</td>\n",
       "      <td>0</td>\n",
       "      <td>0</td>\n",
       "      <td>0</td>\n",
       "      <td>0</td>\n",
       "      <td>1</td>\n",
       "      <td>23</td>\n",
       "      <td>5550</td>\n",
       "      <td>2008</td>\n",
       "      <td>172000.0</td>\n",
       "      <td>1400.0</td>\n",
       "    </tr>\n",
       "    <tr>\n",
       "      <th>2</th>\n",
       "      <td>0</td>\n",
       "      <td>0</td>\n",
       "      <td>1</td>\n",
       "      <td>0</td>\n",
       "      <td>0</td>\n",
       "      <td>0</td>\n",
       "      <td>0</td>\n",
       "      <td>0</td>\n",
       "      <td>1</td>\n",
       "      <td>0</td>\n",
       "      <td>0</td>\n",
       "      <td>0</td>\n",
       "      <td>1</td>\n",
       "      <td>0</td>\n",
       "      <td>1</td>\n",
       "      <td>56</td>\n",
       "      <td>8300</td>\n",
       "      <td>2008</td>\n",
       "      <td>223000.0</td>\n",
       "      <td>2500.0</td>\n",
       "    </tr>\n",
       "    <tr>\n",
       "      <th>3</th>\n",
       "      <td>0</td>\n",
       "      <td>0</td>\n",
       "      <td>0</td>\n",
       "      <td>0</td>\n",
       "      <td>0</td>\n",
       "      <td>0</td>\n",
       "      <td>0</td>\n",
       "      <td>0</td>\n",
       "      <td>1</td>\n",
       "      <td>0</td>\n",
       "      <td>0</td>\n",
       "      <td>0</td>\n",
       "      <td>1</td>\n",
       "      <td>0</td>\n",
       "      <td>1</td>\n",
       "      <td>84</td>\n",
       "      <td>3300</td>\n",
       "      <td>2005</td>\n",
       "      <td>140000.0</td>\n",
       "      <td>1200.0</td>\n",
       "    </tr>\n",
       "    <tr>\n",
       "      <th>4</th>\n",
       "      <td>0</td>\n",
       "      <td>0</td>\n",
       "      <td>1</td>\n",
       "      <td>0</td>\n",
       "      <td>0</td>\n",
       "      <td>0</td>\n",
       "      <td>0</td>\n",
       "      <td>0</td>\n",
       "      <td>1</td>\n",
       "      <td>0</td>\n",
       "      <td>0</td>\n",
       "      <td>0</td>\n",
       "      <td>0</td>\n",
       "      <td>1</td>\n",
       "      <td>0</td>\n",
       "      <td>56</td>\n",
       "      <td>2450</td>\n",
       "      <td>2002</td>\n",
       "      <td>413000.0</td>\n",
       "      <td>2200.0</td>\n",
       "    </tr>\n",
       "  </tbody>\n",
       "</table>\n",
       "</div>"
      ],
      "text/plain": [
       "   B  C  D  E  F  J  M  S  front-wheel drive  part-time four-wheel drive  \\\n",
       "0  0  0  1  0  0  0  0  0                  1                           0   \n",
       "1  0  0  0  0  0  0  1  0                  1                           0   \n",
       "2  0  0  1  0  0  0  0  0                  1                           0   \n",
       "3  0  0  0  0  0  0  0  0                  1                           0   \n",
       "4  0  0  1  0  0  0  0  0                  1                           0   \n",
       "\n",
       "   rear drive  electrocar  petrol  with damage  with mileage  make  priceUSD  \\\n",
       "0           0           0       1            0             1    31       565   \n",
       "1           0           0       0            0             1    23      5550   \n",
       "2           0           0       1            0             1    56      8300   \n",
       "3           0           0       1            0             1    84      3300   \n",
       "4           0           0       0            1             0    56      2450   \n",
       "\n",
       "   year  mileage(kilometers)  volume(cm3)  \n",
       "0  1993             960015.0       2000.0  \n",
       "1  2008             172000.0       1400.0  \n",
       "2  2008             223000.0       2500.0  \n",
       "3  2005             140000.0       1200.0  \n",
       "4  2002             413000.0       2200.0  "
      ]
     },
     "execution_count": 2,
     "metadata": {},
     "output_type": "execute_result"
    }
   ],
   "source": [
    "raw_data = pd.read_csv('used_cars_price_cleaned.csv')\n",
    "data = raw_data.copy()\n",
    "data = data.drop('Unnamed: 0', axis = 1)\n",
    "\n",
    "data.head()"
   ]
  },
  {
   "cell_type": "markdown",
   "metadata": {},
   "source": [
    "## Splitting of dataset"
   ]
  },
  {
   "cell_type": "code",
   "execution_count": 3,
   "metadata": {},
   "outputs": [],
   "source": [
    "from sklearn.model_selection import train_test_split\n",
    "\n",
    "x = data.drop('priceUSD', axis = 1) #Independent variables\n",
    "y = data['priceUSD'] #Dependent variables\n",
    "\n",
    "#Training and test data split\n",
    "x_train, x_test, y_train, y_test = train_test_split(x, y, test_size = 0.1,random_state = 42)\n",
    "\n",
    "#Training and validation data split\n",
    "x_train, x_val, y_train, y_val = train_test_split(x_train, y_train, test_size = 0.1, random_state = 42)"
   ]
  },
  {
   "cell_type": "markdown",
   "metadata": {},
   "source": [
    "## Scaling the data"
   ]
  },
  {
   "cell_type": "code",
   "execution_count": 4,
   "metadata": {},
   "outputs": [],
   "source": [
    "#Since range of values for each feature is different, they need to be scaled with a fixed range\n",
    "#MinMaxScaler scales features within a range of (0,1)\n",
    "\n",
    "from sklearn.preprocessing import MinMaxScaler \n",
    "scaler = MinMaxScaler() \n",
    "  \n",
    "x_train_scaled = scaler.fit_transform(x_train)\n",
    "x_val_scaled = scaler.transform(x_val)\n",
    "x_test_scaled = scaler.transform(x_test) "
   ]
  },
  {
   "cell_type": "markdown",
   "metadata": {},
   "source": [
    "**Since the Price of cars is not normally distributed, skewed to the left, hence it will be best to perfrom a log transformation on price.**"
   ]
  },
  {
   "cell_type": "code",
   "execution_count": 5,
   "metadata": {},
   "outputs": [],
   "source": [
    "y_train_log = np.log(y_train)\n",
    "\n",
    "y_val_log = np.log(y_val)\n",
    "\n",
    "y_test_log = np.log(y_test)"
   ]
  },
  {
   "cell_type": "markdown",
   "metadata": {},
   "source": [
    "######     "
   ]
  },
  {
   "cell_type": "markdown",
   "metadata": {},
   "source": [
    "## Model creation, comparison and Evaluation"
   ]
  },
  {
   "cell_type": "markdown",
   "metadata": {},
   "source": [
    "In this phase, we will use different Machine Learning algorithms to create models and compare the performance of those models.\n",
    "\n",
    "We will use the Root Mean Squared Log Error(RMSLE) and R^2 value (Accuracy) as our evaluation metric. The lower the RMSLE score and higher the accuracy, the better is the model."
   ]
  },
  {
   "cell_type": "markdown",
   "metadata": {},
   "source": [
    "The different ML algorithms to be implemented:\n",
    "\n",
    "    1. Linear Regression\n",
    "\n",
    "    2. Random Forest \n",
    "    \n",
    "    3. K Nearest Neighbours\n",
    "    \n",
    "    4. XGBoost\n",
    "    \n",
    "    5. LightGBM\n",
    "    \n",
    "    6. CatBoost"
   ]
  },
  {
   "cell_type": "markdown",
   "metadata": {},
   "source": [
    "At first, let's create a DataFrame that will store the validation results of all the models so that it can be compared later on."
   ]
  },
  {
   "cell_type": "code",
   "execution_count": 6,
   "metadata": {},
   "outputs": [],
   "source": [
    "Results = pd.DataFrame(columns = ['Model', 'Validation Score(Before tuning)', 'Accuracy(Before tuning)', 'Validation Score(After tuning)', 'Accuracy(After tuning)' ])"
   ]
  },
  {
   "cell_type": "markdown",
   "metadata": {},
   "source": [
    "#### 1. Linear Regression"
   ]
  },
  {
   "cell_type": "code",
   "execution_count": 7,
   "metadata": {},
   "outputs": [
    {
     "name": "stdout",
     "output_type": "stream",
     "text": [
      "RMSLE score:  0.058461182269852544\n",
      "Accuracy score:  77.317\n"
     ]
    }
   ],
   "source": [
    "from sklearn.linear_model import LinearRegression\n",
    "\n",
    "lr =  LinearRegression()\n",
    "\n",
    "lr.fit(x_train_scaled, y_train_log) #Fitting or training the data\n",
    "\n",
    "y_val_pred_log = lr.predict(x_val_scaled)#Predicting on validation set\n",
    "\n",
    "rmsle = np.sqrt(mean_squared_log_error(y_val_log, y_val_pred_log)) #Evaluating model rmsle score by comparing actual and predicted results\n",
    "\n",
    "score = ((lr.score(x_val_scaled,y_val_log))*100).round(3)\n",
    "\n",
    "print(\"RMSLE score: \", rmsle)\n",
    "\n",
    "print(\"Accuracy score: \", score)"
   ]
  },
  {
   "cell_type": "code",
   "execution_count": 8,
   "metadata": {},
   "outputs": [
    {
     "data": {
      "text/html": [
       "<div>\n",
       "<style scoped>\n",
       "    .dataframe tbody tr th:only-of-type {\n",
       "        vertical-align: middle;\n",
       "    }\n",
       "\n",
       "    .dataframe tbody tr th {\n",
       "        vertical-align: top;\n",
       "    }\n",
       "\n",
       "    .dataframe thead th {\n",
       "        text-align: right;\n",
       "    }\n",
       "</style>\n",
       "<table border=\"1\" class=\"dataframe\">\n",
       "  <thead>\n",
       "    <tr style=\"text-align: right;\">\n",
       "      <th></th>\n",
       "      <th>Model</th>\n",
       "      <th>Validation Score(Before tuning)</th>\n",
       "      <th>Accuracy(Before tuning)</th>\n",
       "      <th>Validation Score(After tuning)</th>\n",
       "      <th>Accuracy(After tuning)</th>\n",
       "    </tr>\n",
       "  </thead>\n",
       "  <tbody>\n",
       "    <tr>\n",
       "      <th>0</th>\n",
       "      <td>Linear Regression</td>\n",
       "      <td>0.058461</td>\n",
       "      <td>77.317</td>\n",
       "      <td>NaN</td>\n",
       "      <td>NaN</td>\n",
       "    </tr>\n",
       "  </tbody>\n",
       "</table>\n",
       "</div>"
      ],
      "text/plain": [
       "               Model  Validation Score(Before tuning)  \\\n",
       "0  Linear Regression                         0.058461   \n",
       "\n",
       "   Accuracy(Before tuning)  Validation Score(After tuning)  \\\n",
       "0                   77.317                             NaN   \n",
       "\n",
       "   Accuracy(After tuning)  \n",
       "0                     NaN  "
      ]
     },
     "execution_count": 8,
     "metadata": {},
     "output_type": "execute_result"
    }
   ],
   "source": [
    "Results = Results.append({'Model' : 'Linear Regression', 'Validation Score(Before tuning)': rmsle, \n",
    "                          'Accuracy(Before tuning)': score }, ignore_index = True)\n",
    "Results"
   ]
  },
  {
   "cell_type": "markdown",
   "metadata": {},
   "source": [
    "#####   "
   ]
  },
  {
   "cell_type": "markdown",
   "metadata": {},
   "source": [
    "#### 2. Random Forest"
   ]
  },
  {
   "cell_type": "code",
   "execution_count": 9,
   "metadata": {},
   "outputs": [
    {
     "name": "stdout",
     "output_type": "stream",
     "text": [
      "RMSLE score:  0.037815375137285036\n",
      "Accuracy score:  89.968\n"
     ]
    }
   ],
   "source": [
    "from sklearn.ensemble import RandomForestRegressor\n",
    "\n",
    "rf = RandomForestRegressor()\n",
    "\n",
    "rf.fit(x_train_scaled, y_train_log) #Fitting or training the data\n",
    "\n",
    "y_val_pred_log = rf.predict(x_val_scaled)#Predicting on validation set\n",
    "\n",
    "rmsle = np.sqrt(mean_squared_log_error(y_val_log, y_val_pred_log)) #Evaluating model rmsle score by comparing actual and predicted results\n",
    "score = ((rf.score(x_val_scaled,y_val_log))*100).round(3)\n",
    "\n",
    "print(\"RMSLE score: \", rmsle)\n",
    "\n",
    "print(\"Accuracy score: \", score)"
   ]
  },
  {
   "cell_type": "code",
   "execution_count": 10,
   "metadata": {},
   "outputs": [
    {
     "data": {
      "text/html": [
       "<div>\n",
       "<style scoped>\n",
       "    .dataframe tbody tr th:only-of-type {\n",
       "        vertical-align: middle;\n",
       "    }\n",
       "\n",
       "    .dataframe tbody tr th {\n",
       "        vertical-align: top;\n",
       "    }\n",
       "\n",
       "    .dataframe thead th {\n",
       "        text-align: right;\n",
       "    }\n",
       "</style>\n",
       "<table border=\"1\" class=\"dataframe\">\n",
       "  <thead>\n",
       "    <tr style=\"text-align: right;\">\n",
       "      <th></th>\n",
       "      <th>Model</th>\n",
       "      <th>Validation Score(Before tuning)</th>\n",
       "      <th>Accuracy(Before tuning)</th>\n",
       "      <th>Validation Score(After tuning)</th>\n",
       "      <th>Accuracy(After tuning)</th>\n",
       "    </tr>\n",
       "  </thead>\n",
       "  <tbody>\n",
       "    <tr>\n",
       "      <th>0</th>\n",
       "      <td>Linear Regression</td>\n",
       "      <td>0.058461</td>\n",
       "      <td>77.317</td>\n",
       "      <td>NaN</td>\n",
       "      <td>NaN</td>\n",
       "    </tr>\n",
       "    <tr>\n",
       "      <th>1</th>\n",
       "      <td>Random Forest</td>\n",
       "      <td>0.037815</td>\n",
       "      <td>89.968</td>\n",
       "      <td>NaN</td>\n",
       "      <td>NaN</td>\n",
       "    </tr>\n",
       "  </tbody>\n",
       "</table>\n",
       "</div>"
      ],
      "text/plain": [
       "               Model  Validation Score(Before tuning)  \\\n",
       "0  Linear Regression                         0.058461   \n",
       "1      Random Forest                         0.037815   \n",
       "\n",
       "   Accuracy(Before tuning)  Validation Score(After tuning)  \\\n",
       "0                   77.317                             NaN   \n",
       "1                   89.968                             NaN   \n",
       "\n",
       "   Accuracy(After tuning)  \n",
       "0                     NaN  \n",
       "1                     NaN  "
      ]
     },
     "execution_count": 10,
     "metadata": {},
     "output_type": "execute_result"
    }
   ],
   "source": [
    "Results = Results.append({'Model' : 'Random Forest', 'Validation Score(Before tuning)': rmsle,\n",
    "                         'Accuracy(Before tuning)': score}, ignore_index = True)\n",
    "Results"
   ]
  },
  {
   "cell_type": "markdown",
   "metadata": {},
   "source": [
    "#####  "
   ]
  },
  {
   "cell_type": "markdown",
   "metadata": {},
   "source": [
    "#### 3. K Nearest Neighbours"
   ]
  },
  {
   "cell_type": "code",
   "execution_count": 11,
   "metadata": {},
   "outputs": [
    {
     "name": "stdout",
     "output_type": "stream",
     "text": [
      "RMSLE score:  0.03823251764652535\n",
      "Accuracy score:  89.49\n"
     ]
    }
   ],
   "source": [
    "from sklearn.neighbors import KNeighborsRegressor\n",
    "\n",
    "knn = KNeighborsRegressor()\n",
    "\n",
    "knn.fit(x_train_scaled, y_train_log) #Fitting or training the data\n",
    "\n",
    "y_val_pred_log = knn.predict(x_val_scaled)#Predicting on validation set\n",
    "\n",
    "rmsle = np.sqrt(mean_squared_log_error(y_val_log, y_val_pred_log)) #Evaluating model rmsle score by comparing actual and predicted results\n",
    "score = ((knn.score(x_val_scaled,y_val_log))*100).round(3)\n",
    "\n",
    "print(\"RMSLE score: \", rmsle)\n",
    "\n",
    "print(\"Accuracy score: \", score)"
   ]
  },
  {
   "cell_type": "code",
   "execution_count": 12,
   "metadata": {},
   "outputs": [
    {
     "data": {
      "text/html": [
       "<div>\n",
       "<style scoped>\n",
       "    .dataframe tbody tr th:only-of-type {\n",
       "        vertical-align: middle;\n",
       "    }\n",
       "\n",
       "    .dataframe tbody tr th {\n",
       "        vertical-align: top;\n",
       "    }\n",
       "\n",
       "    .dataframe thead th {\n",
       "        text-align: right;\n",
       "    }\n",
       "</style>\n",
       "<table border=\"1\" class=\"dataframe\">\n",
       "  <thead>\n",
       "    <tr style=\"text-align: right;\">\n",
       "      <th></th>\n",
       "      <th>Model</th>\n",
       "      <th>Validation Score(Before tuning)</th>\n",
       "      <th>Accuracy(Before tuning)</th>\n",
       "      <th>Validation Score(After tuning)</th>\n",
       "      <th>Accuracy(After tuning)</th>\n",
       "    </tr>\n",
       "  </thead>\n",
       "  <tbody>\n",
       "    <tr>\n",
       "      <th>0</th>\n",
       "      <td>Linear Regression</td>\n",
       "      <td>0.058461</td>\n",
       "      <td>77.317</td>\n",
       "      <td>NaN</td>\n",
       "      <td>NaN</td>\n",
       "    </tr>\n",
       "    <tr>\n",
       "      <th>1</th>\n",
       "      <td>Random Forest</td>\n",
       "      <td>0.037815</td>\n",
       "      <td>89.968</td>\n",
       "      <td>NaN</td>\n",
       "      <td>NaN</td>\n",
       "    </tr>\n",
       "    <tr>\n",
       "      <th>2</th>\n",
       "      <td>K Nearest Neighbours</td>\n",
       "      <td>0.038233</td>\n",
       "      <td>89.490</td>\n",
       "      <td>NaN</td>\n",
       "      <td>NaN</td>\n",
       "    </tr>\n",
       "  </tbody>\n",
       "</table>\n",
       "</div>"
      ],
      "text/plain": [
       "                  Model  Validation Score(Before tuning)  \\\n",
       "0     Linear Regression                         0.058461   \n",
       "1         Random Forest                         0.037815   \n",
       "2  K Nearest Neighbours                         0.038233   \n",
       "\n",
       "   Accuracy(Before tuning)  Validation Score(After tuning)  \\\n",
       "0                   77.317                             NaN   \n",
       "1                   89.968                             NaN   \n",
       "2                   89.490                             NaN   \n",
       "\n",
       "   Accuracy(After tuning)  \n",
       "0                     NaN  \n",
       "1                     NaN  \n",
       "2                     NaN  "
      ]
     },
     "execution_count": 12,
     "metadata": {},
     "output_type": "execute_result"
    }
   ],
   "source": [
    "Results = Results.append({'Model' : 'K Nearest Neighbours', 'Validation Score(Before tuning)': rmsle,\n",
    "                         'Accuracy(Before tuning)': score}, ignore_index = True)\n",
    "Results"
   ]
  },
  {
   "cell_type": "markdown",
   "metadata": {},
   "source": [
    "######   "
   ]
  },
  {
   "cell_type": "markdown",
   "metadata": {},
   "source": [
    "#### 4. XGBoost"
   ]
  },
  {
   "cell_type": "code",
   "execution_count": 13,
   "metadata": {},
   "outputs": [
    {
     "name": "stdout",
     "output_type": "stream",
     "text": [
      "[16:18:27] WARNING: src/objective/regression_obj.cu:152: reg:linear is now deprecated in favor of reg:squarederror.\n",
      "RMSLE score:  0.04095935448169442\n",
      "Accuracy score:  87.925\n"
     ]
    }
   ],
   "source": [
    "from xgboost import XGBRegressor\n",
    "\n",
    "xgb = XGBRegressor()\n",
    "\n",
    "xgb.fit(x_train_scaled, y_train_log) #Fitting or training the data\n",
    "\n",
    "y_val_pred_log = xgb.predict(x_val_scaled)#Predicting on validation set\n",
    "\n",
    "rmsle = np.sqrt(mean_squared_log_error(y_val_log, y_val_pred_log)) #Evaluating model rmsle score by comparing actual and predicted results\n",
    "score = ((xgb.score(x_val_scaled,y_val_log))*100).round(3)\n",
    "\n",
    "print(\"RMSLE score: \", rmsle)\n",
    "\n",
    "print(\"Accuracy score: \", score)"
   ]
  },
  {
   "cell_type": "code",
   "execution_count": 14,
   "metadata": {},
   "outputs": [
    {
     "data": {
      "text/html": [
       "<div>\n",
       "<style scoped>\n",
       "    .dataframe tbody tr th:only-of-type {\n",
       "        vertical-align: middle;\n",
       "    }\n",
       "\n",
       "    .dataframe tbody tr th {\n",
       "        vertical-align: top;\n",
       "    }\n",
       "\n",
       "    .dataframe thead th {\n",
       "        text-align: right;\n",
       "    }\n",
       "</style>\n",
       "<table border=\"1\" class=\"dataframe\">\n",
       "  <thead>\n",
       "    <tr style=\"text-align: right;\">\n",
       "      <th></th>\n",
       "      <th>Model</th>\n",
       "      <th>Validation Score(Before tuning)</th>\n",
       "      <th>Accuracy(Before tuning)</th>\n",
       "      <th>Validation Score(After tuning)</th>\n",
       "      <th>Accuracy(After tuning)</th>\n",
       "    </tr>\n",
       "  </thead>\n",
       "  <tbody>\n",
       "    <tr>\n",
       "      <th>0</th>\n",
       "      <td>Linear Regression</td>\n",
       "      <td>0.058461</td>\n",
       "      <td>77.317</td>\n",
       "      <td>NaN</td>\n",
       "      <td>NaN</td>\n",
       "    </tr>\n",
       "    <tr>\n",
       "      <th>1</th>\n",
       "      <td>Random Forest</td>\n",
       "      <td>0.037815</td>\n",
       "      <td>89.968</td>\n",
       "      <td>NaN</td>\n",
       "      <td>NaN</td>\n",
       "    </tr>\n",
       "    <tr>\n",
       "      <th>2</th>\n",
       "      <td>K Nearest Neighbours</td>\n",
       "      <td>0.038233</td>\n",
       "      <td>89.490</td>\n",
       "      <td>NaN</td>\n",
       "      <td>NaN</td>\n",
       "    </tr>\n",
       "    <tr>\n",
       "      <th>3</th>\n",
       "      <td>XGBoost</td>\n",
       "      <td>0.040959</td>\n",
       "      <td>87.925</td>\n",
       "      <td>NaN</td>\n",
       "      <td>NaN</td>\n",
       "    </tr>\n",
       "  </tbody>\n",
       "</table>\n",
       "</div>"
      ],
      "text/plain": [
       "                  Model  Validation Score(Before tuning)  \\\n",
       "0     Linear Regression                         0.058461   \n",
       "1         Random Forest                         0.037815   \n",
       "2  K Nearest Neighbours                         0.038233   \n",
       "3               XGBoost                         0.040959   \n",
       "\n",
       "   Accuracy(Before tuning)  Validation Score(After tuning)  \\\n",
       "0                   77.317                             NaN   \n",
       "1                   89.968                             NaN   \n",
       "2                   89.490                             NaN   \n",
       "3                   87.925                             NaN   \n",
       "\n",
       "   Accuracy(After tuning)  \n",
       "0                     NaN  \n",
       "1                     NaN  \n",
       "2                     NaN  \n",
       "3                     NaN  "
      ]
     },
     "execution_count": 14,
     "metadata": {},
     "output_type": "execute_result"
    }
   ],
   "source": [
    "Results = Results.append({'Model' : 'XGBoost', 'Validation Score(Before tuning)': rmsle,\n",
    "                         'Accuracy(Before tuning)': score}, ignore_index = True)\n",
    "Results"
   ]
  },
  {
   "cell_type": "markdown",
   "metadata": {},
   "source": [
    "#####    "
   ]
  },
  {
   "cell_type": "markdown",
   "metadata": {},
   "source": [
    "#### 5. Light GBM (LGBM)"
   ]
  },
  {
   "cell_type": "code",
   "execution_count": 15,
   "metadata": {},
   "outputs": [
    {
     "name": "stdout",
     "output_type": "stream",
     "text": [
      "RMSLE score:  0.036177417400881436\n",
      "Accuracy score:  90.781\n"
     ]
    }
   ],
   "source": [
    "from lightgbm import LGBMRegressor\n",
    "\n",
    "lgbr = LGBMRegressor()\n",
    "\n",
    "lgbr.fit(x_train_scaled, y_train_log) #Fitting or training the data\n",
    " \n",
    "y_val_pred_log = lgbr.predict(x_val_scaled)#Predicting on validation set\n",
    "\n",
    "rmsle = np.sqrt(mean_squared_log_error(y_val_log, y_val_pred_log)) #Evaluating model rmsle score by comparing actual and predicted results\n",
    "score = ((lgbr.score(x_val_scaled,y_val_log))*100).round(3)\n",
    "\n",
    "print(\"RMSLE score: \", rmsle)\n",
    "\n",
    "print(\"Accuracy score: \", score)"
   ]
  },
  {
   "cell_type": "code",
   "execution_count": 16,
   "metadata": {},
   "outputs": [
    {
     "data": {
      "text/html": [
       "<div>\n",
       "<style scoped>\n",
       "    .dataframe tbody tr th:only-of-type {\n",
       "        vertical-align: middle;\n",
       "    }\n",
       "\n",
       "    .dataframe tbody tr th {\n",
       "        vertical-align: top;\n",
       "    }\n",
       "\n",
       "    .dataframe thead th {\n",
       "        text-align: right;\n",
       "    }\n",
       "</style>\n",
       "<table border=\"1\" class=\"dataframe\">\n",
       "  <thead>\n",
       "    <tr style=\"text-align: right;\">\n",
       "      <th></th>\n",
       "      <th>Model</th>\n",
       "      <th>Validation Score(Before tuning)</th>\n",
       "      <th>Accuracy(Before tuning)</th>\n",
       "      <th>Validation Score(After tuning)</th>\n",
       "      <th>Accuracy(After tuning)</th>\n",
       "    </tr>\n",
       "  </thead>\n",
       "  <tbody>\n",
       "    <tr>\n",
       "      <th>0</th>\n",
       "      <td>Linear Regression</td>\n",
       "      <td>0.058461</td>\n",
       "      <td>77.317</td>\n",
       "      <td>NaN</td>\n",
       "      <td>NaN</td>\n",
       "    </tr>\n",
       "    <tr>\n",
       "      <th>1</th>\n",
       "      <td>Random Forest</td>\n",
       "      <td>0.037815</td>\n",
       "      <td>89.968</td>\n",
       "      <td>NaN</td>\n",
       "      <td>NaN</td>\n",
       "    </tr>\n",
       "    <tr>\n",
       "      <th>2</th>\n",
       "      <td>K Nearest Neighbours</td>\n",
       "      <td>0.038233</td>\n",
       "      <td>89.490</td>\n",
       "      <td>NaN</td>\n",
       "      <td>NaN</td>\n",
       "    </tr>\n",
       "    <tr>\n",
       "      <th>3</th>\n",
       "      <td>XGBoost</td>\n",
       "      <td>0.040959</td>\n",
       "      <td>87.925</td>\n",
       "      <td>NaN</td>\n",
       "      <td>NaN</td>\n",
       "    </tr>\n",
       "    <tr>\n",
       "      <th>4</th>\n",
       "      <td>Light GBM</td>\n",
       "      <td>0.036177</td>\n",
       "      <td>90.781</td>\n",
       "      <td>NaN</td>\n",
       "      <td>NaN</td>\n",
       "    </tr>\n",
       "  </tbody>\n",
       "</table>\n",
       "</div>"
      ],
      "text/plain": [
       "                  Model  Validation Score(Before tuning)  \\\n",
       "0     Linear Regression                         0.058461   \n",
       "1         Random Forest                         0.037815   \n",
       "2  K Nearest Neighbours                         0.038233   \n",
       "3               XGBoost                         0.040959   \n",
       "4             Light GBM                         0.036177   \n",
       "\n",
       "   Accuracy(Before tuning)  Validation Score(After tuning)  \\\n",
       "0                   77.317                             NaN   \n",
       "1                   89.968                             NaN   \n",
       "2                   89.490                             NaN   \n",
       "3                   87.925                             NaN   \n",
       "4                   90.781                             NaN   \n",
       "\n",
       "   Accuracy(After tuning)  \n",
       "0                     NaN  \n",
       "1                     NaN  \n",
       "2                     NaN  \n",
       "3                     NaN  \n",
       "4                     NaN  "
      ]
     },
     "execution_count": 16,
     "metadata": {},
     "output_type": "execute_result"
    }
   ],
   "source": [
    "Results = Results.append({'Model' : 'Light GBM', 'Validation Score(Before tuning)': rmsle,\n",
    "                         'Accuracy(Before tuning)': score}, ignore_index = True)\n",
    "Results"
   ]
  },
  {
   "cell_type": "markdown",
   "metadata": {},
   "source": [
    "#####   "
   ]
  },
  {
   "cell_type": "markdown",
   "metadata": {},
   "source": [
    "#### 6. CatBoost"
   ]
  },
  {
   "cell_type": "code",
   "execution_count": 17,
   "metadata": {},
   "outputs": [
    {
     "name": "stdout",
     "output_type": "stream",
     "text": [
      "Learning rate set to 0.07236\n",
      "0:\tlearn: 0.9634298\ttotal: 169ms\tremaining: 2m 48s\n",
      "200:\tlearn: 0.3110477\ttotal: 1.57s\tremaining: 6.23s\n",
      "400:\tlearn: 0.2879327\ttotal: 2.9s\tremaining: 4.33s\n",
      "600:\tlearn: 0.2771087\ttotal: 4.21s\tremaining: 2.8s\n",
      "800:\tlearn: 0.2698537\ttotal: 5.51s\tremaining: 1.37s\n",
      "999:\tlearn: 0.2637301\ttotal: 6.9s\tremaining: 0us\n",
      "RMSLE score:  0.03534135196770207\n",
      "Accuracy score:  91.283\n"
     ]
    }
   ],
   "source": [
    "from catboost import CatBoostRegressor\n",
    "\n",
    "cb = CatBoostRegressor()\n",
    "\n",
    "cb.fit(x_train_scaled, y_train_log, verbose = 200) #Fitting or training the data\n",
    "\n",
    "y_val_pred_log = cb.predict(x_val_scaled) #Predicting on validation set\n",
    "\n",
    "rmsle = np.sqrt(mean_squared_log_error(y_val_log, y_val_pred_log)) #Evaluating model rmsle score by comparing actual and predicted results\n",
    "score = ((cb.score(x_val_scaled,y_val_log))*100).round(3)\n",
    "\n",
    "print(\"RMSLE score: \", rmsle)\n",
    "\n",
    "print(\"Accuracy score: \", score)"
   ]
  },
  {
   "cell_type": "code",
   "execution_count": 18,
   "metadata": {},
   "outputs": [
    {
     "data": {
      "text/html": [
       "<div>\n",
       "<style scoped>\n",
       "    .dataframe tbody tr th:only-of-type {\n",
       "        vertical-align: middle;\n",
       "    }\n",
       "\n",
       "    .dataframe tbody tr th {\n",
       "        vertical-align: top;\n",
       "    }\n",
       "\n",
       "    .dataframe thead th {\n",
       "        text-align: right;\n",
       "    }\n",
       "</style>\n",
       "<table border=\"1\" class=\"dataframe\">\n",
       "  <thead>\n",
       "    <tr style=\"text-align: right;\">\n",
       "      <th></th>\n",
       "      <th>Model</th>\n",
       "      <th>Validation Score(Before tuning)</th>\n",
       "      <th>Accuracy(Before tuning)</th>\n",
       "      <th>Validation Score(After tuning)</th>\n",
       "      <th>Accuracy(After tuning)</th>\n",
       "    </tr>\n",
       "  </thead>\n",
       "  <tbody>\n",
       "    <tr>\n",
       "      <th>0</th>\n",
       "      <td>Linear Regression</td>\n",
       "      <td>0.058461</td>\n",
       "      <td>77.317</td>\n",
       "      <td>NaN</td>\n",
       "      <td>NaN</td>\n",
       "    </tr>\n",
       "    <tr>\n",
       "      <th>1</th>\n",
       "      <td>Random Forest</td>\n",
       "      <td>0.037815</td>\n",
       "      <td>89.968</td>\n",
       "      <td>NaN</td>\n",
       "      <td>NaN</td>\n",
       "    </tr>\n",
       "    <tr>\n",
       "      <th>2</th>\n",
       "      <td>K Nearest Neighbours</td>\n",
       "      <td>0.038233</td>\n",
       "      <td>89.490</td>\n",
       "      <td>NaN</td>\n",
       "      <td>NaN</td>\n",
       "    </tr>\n",
       "    <tr>\n",
       "      <th>3</th>\n",
       "      <td>XGBoost</td>\n",
       "      <td>0.040959</td>\n",
       "      <td>87.925</td>\n",
       "      <td>NaN</td>\n",
       "      <td>NaN</td>\n",
       "    </tr>\n",
       "    <tr>\n",
       "      <th>4</th>\n",
       "      <td>Light GBM</td>\n",
       "      <td>0.036177</td>\n",
       "      <td>90.781</td>\n",
       "      <td>NaN</td>\n",
       "      <td>NaN</td>\n",
       "    </tr>\n",
       "    <tr>\n",
       "      <th>5</th>\n",
       "      <td>CatBoost</td>\n",
       "      <td>0.035341</td>\n",
       "      <td>91.283</td>\n",
       "      <td>NaN</td>\n",
       "      <td>NaN</td>\n",
       "    </tr>\n",
       "  </tbody>\n",
       "</table>\n",
       "</div>"
      ],
      "text/plain": [
       "                  Model  Validation Score(Before tuning)  \\\n",
       "0     Linear Regression                         0.058461   \n",
       "1         Random Forest                         0.037815   \n",
       "2  K Nearest Neighbours                         0.038233   \n",
       "3               XGBoost                         0.040959   \n",
       "4             Light GBM                         0.036177   \n",
       "5              CatBoost                         0.035341   \n",
       "\n",
       "   Accuracy(Before tuning)  Validation Score(After tuning)  \\\n",
       "0                   77.317                             NaN   \n",
       "1                   89.968                             NaN   \n",
       "2                   89.490                             NaN   \n",
       "3                   87.925                             NaN   \n",
       "4                   90.781                             NaN   \n",
       "5                   91.283                             NaN   \n",
       "\n",
       "   Accuracy(After tuning)  \n",
       "0                     NaN  \n",
       "1                     NaN  \n",
       "2                     NaN  \n",
       "3                     NaN  \n",
       "4                     NaN  \n",
       "5                     NaN  "
      ]
     },
     "execution_count": 18,
     "metadata": {},
     "output_type": "execute_result"
    }
   ],
   "source": [
    "Results = Results.append({'Model' : 'CatBoost', 'Validation Score(Before tuning)': rmsle,\n",
    "                         'Accuracy(Before tuning)': score}, ignore_index = True)\n",
    "Results"
   ]
  },
  {
   "cell_type": "markdown",
   "metadata": {},
   "source": [
    "##  "
   ]
  },
  {
   "cell_type": "markdown",
   "metadata": {},
   "source": [
    "## <u>Hyper Parameter Tuning</u>"
   ]
  },
  {
   "cell_type": "markdown",
   "metadata": {},
   "source": [
    "####  For this we will use GridSearchCV \n",
    "\n",
    "Grid search is the process of performing hyper parameter tuning in order to determine the optimal values for a given model. This is significant as the performance of the entire model is based on the hyper parameter values specified."
   ]
  },
  {
   "cell_type": "code",
   "execution_count": 19,
   "metadata": {},
   "outputs": [],
   "source": [
    "from sklearn.model_selection import GridSearchCV\n",
    "\n",
    "#Defining a function that will calculate the best parameters and RMSE score of the model based on those parameters\n",
    "#Using GridSearchCV\n",
    "\n",
    "def grid_search(regressor,parameters):\n",
    "    \n",
    "    grid = GridSearchCV(estimator = regressor, #The model object\n",
    "                        param_grid = parameters, #The dictionary of parameteres to be searched on\n",
    "                        scoring = 'neg_mean_squared_log_error', #Scoring method\n",
    "                        cv = 5, #Cross-validation splits value\n",
    "                        n_jobs = -1 #Number of CPU cores to be used, -1 means all cores to be used\n",
    "                        )\n",
    "    \n",
    "    grid.fit(x_train_scaled,y_train_log) #Training the model \n",
    "\n",
    "    print('Best parameters: ', grid.best_params_) #Displaying the best parameters of the model\n",
    "\n",
    "    print(\"MSLE: \", ((grid.best_score_)))#MSLE score of the model based on those parameters"
   ]
  },
  {
   "cell_type": "markdown",
   "metadata": {},
   "source": [
    "#### 1. Linear regression"
   ]
  },
  {
   "cell_type": "code",
   "execution_count": 20,
   "metadata": {},
   "outputs": [
    {
     "name": "stdout",
     "output_type": "stream",
     "text": [
      "Best parameters:  {'normalize': 'True'}\n",
      "MSLE:  -0.003001407854897586\n"
     ]
    }
   ],
   "source": [
    "from sklearn.linear_model import LinearRegression\n",
    "\n",
    "param_lr = {\n",
    "    'normalize': ['True', 'False'],#\"True\":The regressors of X will be normalized by subtracting with mean and diving by l2 norm\n",
    "    }\n",
    "\n",
    "lr = LinearRegression()\n",
    "grid_search(lr,param_lr)"
   ]
  },
  {
   "cell_type": "code",
   "execution_count": 21,
   "metadata": {},
   "outputs": [
    {
     "name": "stdout",
     "output_type": "stream",
     "text": [
      "RMSLE score:  0.05846118226985253\n",
      "Accuracy score:  77.317\n"
     ]
    }
   ],
   "source": [
    "#Retraining model with best parameters\n",
    "\n",
    "lr =  LinearRegression(normalize = 'True')\n",
    "\n",
    "lr.fit(x_train_scaled, y_train_log) #Fitting or training the data\n",
    "\n",
    "y_val_pred_log = lr.predict(x_val_scaled)#Predicting on validation set\n",
    "\n",
    "rmsle = np.sqrt(mean_squared_log_error(y_val_log, y_val_pred_log)) #Evaluating model rmsle score by comparing actual and predicted results\n",
    "\n",
    "score = ((lr.score(x_val_scaled,y_val_log))*100).round(3)\n",
    "\n",
    "print(\"RMSLE score: \", rmsle)\n",
    "\n",
    "print(\"Accuracy score: \", score)"
   ]
  },
  {
   "cell_type": "code",
   "execution_count": 22,
   "metadata": {},
   "outputs": [
    {
     "data": {
      "text/html": [
       "<div>\n",
       "<style scoped>\n",
       "    .dataframe tbody tr th:only-of-type {\n",
       "        vertical-align: middle;\n",
       "    }\n",
       "\n",
       "    .dataframe tbody tr th {\n",
       "        vertical-align: top;\n",
       "    }\n",
       "\n",
       "    .dataframe thead th {\n",
       "        text-align: right;\n",
       "    }\n",
       "</style>\n",
       "<table border=\"1\" class=\"dataframe\">\n",
       "  <thead>\n",
       "    <tr style=\"text-align: right;\">\n",
       "      <th></th>\n",
       "      <th>Model</th>\n",
       "      <th>Validation Score(Before tuning)</th>\n",
       "      <th>Accuracy(Before tuning)</th>\n",
       "      <th>Validation Score(After tuning)</th>\n",
       "      <th>Accuracy(After tuning)</th>\n",
       "    </tr>\n",
       "  </thead>\n",
       "  <tbody>\n",
       "    <tr>\n",
       "      <th>0</th>\n",
       "      <td>Linear Regression</td>\n",
       "      <td>0.058461</td>\n",
       "      <td>77.317</td>\n",
       "      <td>0.058461</td>\n",
       "      <td>77.317</td>\n",
       "    </tr>\n",
       "    <tr>\n",
       "      <th>1</th>\n",
       "      <td>Random Forest</td>\n",
       "      <td>0.037815</td>\n",
       "      <td>89.968</td>\n",
       "      <td>NaN</td>\n",
       "      <td>NaN</td>\n",
       "    </tr>\n",
       "    <tr>\n",
       "      <th>2</th>\n",
       "      <td>K Nearest Neighbours</td>\n",
       "      <td>0.038233</td>\n",
       "      <td>89.490</td>\n",
       "      <td>NaN</td>\n",
       "      <td>NaN</td>\n",
       "    </tr>\n",
       "    <tr>\n",
       "      <th>3</th>\n",
       "      <td>XGBoost</td>\n",
       "      <td>0.040959</td>\n",
       "      <td>87.925</td>\n",
       "      <td>NaN</td>\n",
       "      <td>NaN</td>\n",
       "    </tr>\n",
       "    <tr>\n",
       "      <th>4</th>\n",
       "      <td>Light GBM</td>\n",
       "      <td>0.036177</td>\n",
       "      <td>90.781</td>\n",
       "      <td>NaN</td>\n",
       "      <td>NaN</td>\n",
       "    </tr>\n",
       "    <tr>\n",
       "      <th>5</th>\n",
       "      <td>CatBoost</td>\n",
       "      <td>0.035341</td>\n",
       "      <td>91.283</td>\n",
       "      <td>NaN</td>\n",
       "      <td>NaN</td>\n",
       "    </tr>\n",
       "  </tbody>\n",
       "</table>\n",
       "</div>"
      ],
      "text/plain": [
       "                  Model  Validation Score(Before tuning)  \\\n",
       "0     Linear Regression                         0.058461   \n",
       "1         Random Forest                         0.037815   \n",
       "2  K Nearest Neighbours                         0.038233   \n",
       "3               XGBoost                         0.040959   \n",
       "4             Light GBM                         0.036177   \n",
       "5              CatBoost                         0.035341   \n",
       "\n",
       "   Accuracy(Before tuning)  Validation Score(After tuning)  \\\n",
       "0                   77.317                        0.058461   \n",
       "1                   89.968                             NaN   \n",
       "2                   89.490                             NaN   \n",
       "3                   87.925                             NaN   \n",
       "4                   90.781                             NaN   \n",
       "5                   91.283                             NaN   \n",
       "\n",
       "   Accuracy(After tuning)  \n",
       "0                  77.317  \n",
       "1                     NaN  \n",
       "2                     NaN  \n",
       "3                     NaN  \n",
       "4                     NaN  \n",
       "5                     NaN  "
      ]
     },
     "execution_count": 22,
     "metadata": {},
     "output_type": "execute_result"
    }
   ],
   "source": [
    "Results['Validation Score(After tuning)'][0] = rmsle\n",
    "Results['Accuracy(After tuning)'][0] = score\n",
    "Results"
   ]
  },
  {
   "cell_type": "markdown",
   "metadata": {},
   "source": [
    "######  "
   ]
  },
  {
   "cell_type": "markdown",
   "metadata": {},
   "source": [
    "#### 2. Random forest"
   ]
  },
  {
   "cell_type": "code",
   "execution_count": 23,
   "metadata": {},
   "outputs": [
    {
     "name": "stdout",
     "output_type": "stream",
     "text": [
      "Best parameters:  {'max_depth': 20, 'n_estimators': 500}\n",
      "MSLE:  -0.0014119664837570103\n"
     ]
    }
   ],
   "source": [
    "from sklearn.ensemble import RandomForestRegressor\n",
    "\n",
    "param_rf = {\n",
    "    'max_depth': [10, 20, 30], #max_depth determines the maximum height of each tree\n",
    "    'n_estimators': [100, 200, 500] #The number of trees in the forest.\n",
    "    }\n",
    "\n",
    "rf = RandomForestRegressor()\n",
    "grid_search(rf,param_rf)"
   ]
  },
  {
   "cell_type": "code",
   "execution_count": 24,
   "metadata": {},
   "outputs": [
    {
     "name": "stdout",
     "output_type": "stream",
     "text": [
      "RMSLE score:  0.037368093251942285\n",
      "Accuracy score:  90.184\n"
     ]
    }
   ],
   "source": [
    "#Retraining model with best parameters\n",
    "\n",
    "rf = RandomForestRegressor(max_depth = 20, n_estimators = 500)\n",
    "\n",
    "rf.fit(x_train_scaled, y_train_log) #Fitting or training the data\n",
    "\n",
    "y_val_pred_log = rf.predict(x_val_scaled)#Predicting on validation set\n",
    "\n",
    "rmsle = np.sqrt(mean_squared_log_error(y_val_log, y_val_pred_log)) #Evaluating model rmsle score by comparing actual and predicted results\n",
    "score = ((rf.score(x_val_scaled,y_val_log))*100).round(3)\n",
    "\n",
    "print(\"RMSLE score: \", rmsle)\n",
    "\n",
    "print(\"Accuracy score: \", score)"
   ]
  },
  {
   "cell_type": "code",
   "execution_count": 25,
   "metadata": {},
   "outputs": [
    {
     "data": {
      "text/html": [
       "<div>\n",
       "<style scoped>\n",
       "    .dataframe tbody tr th:only-of-type {\n",
       "        vertical-align: middle;\n",
       "    }\n",
       "\n",
       "    .dataframe tbody tr th {\n",
       "        vertical-align: top;\n",
       "    }\n",
       "\n",
       "    .dataframe thead th {\n",
       "        text-align: right;\n",
       "    }\n",
       "</style>\n",
       "<table border=\"1\" class=\"dataframe\">\n",
       "  <thead>\n",
       "    <tr style=\"text-align: right;\">\n",
       "      <th></th>\n",
       "      <th>Model</th>\n",
       "      <th>Validation Score(Before tuning)</th>\n",
       "      <th>Accuracy(Before tuning)</th>\n",
       "      <th>Validation Score(After tuning)</th>\n",
       "      <th>Accuracy(After tuning)</th>\n",
       "    </tr>\n",
       "  </thead>\n",
       "  <tbody>\n",
       "    <tr>\n",
       "      <th>0</th>\n",
       "      <td>Linear Regression</td>\n",
       "      <td>0.058461</td>\n",
       "      <td>77.317</td>\n",
       "      <td>0.058461</td>\n",
       "      <td>77.317</td>\n",
       "    </tr>\n",
       "    <tr>\n",
       "      <th>1</th>\n",
       "      <td>Random Forest</td>\n",
       "      <td>0.037815</td>\n",
       "      <td>89.968</td>\n",
       "      <td>0.037368</td>\n",
       "      <td>90.184</td>\n",
       "    </tr>\n",
       "    <tr>\n",
       "      <th>2</th>\n",
       "      <td>K Nearest Neighbours</td>\n",
       "      <td>0.038233</td>\n",
       "      <td>89.490</td>\n",
       "      <td>NaN</td>\n",
       "      <td>NaN</td>\n",
       "    </tr>\n",
       "    <tr>\n",
       "      <th>3</th>\n",
       "      <td>XGBoost</td>\n",
       "      <td>0.040959</td>\n",
       "      <td>87.925</td>\n",
       "      <td>NaN</td>\n",
       "      <td>NaN</td>\n",
       "    </tr>\n",
       "    <tr>\n",
       "      <th>4</th>\n",
       "      <td>Light GBM</td>\n",
       "      <td>0.036177</td>\n",
       "      <td>90.781</td>\n",
       "      <td>NaN</td>\n",
       "      <td>NaN</td>\n",
       "    </tr>\n",
       "    <tr>\n",
       "      <th>5</th>\n",
       "      <td>CatBoost</td>\n",
       "      <td>0.035341</td>\n",
       "      <td>91.283</td>\n",
       "      <td>NaN</td>\n",
       "      <td>NaN</td>\n",
       "    </tr>\n",
       "  </tbody>\n",
       "</table>\n",
       "</div>"
      ],
      "text/plain": [
       "                  Model  Validation Score(Before tuning)  \\\n",
       "0     Linear Regression                         0.058461   \n",
       "1         Random Forest                         0.037815   \n",
       "2  K Nearest Neighbours                         0.038233   \n",
       "3               XGBoost                         0.040959   \n",
       "4             Light GBM                         0.036177   \n",
       "5              CatBoost                         0.035341   \n",
       "\n",
       "   Accuracy(Before tuning)  Validation Score(After tuning)  \\\n",
       "0                   77.317                        0.058461   \n",
       "1                   89.968                        0.037368   \n",
       "2                   89.490                             NaN   \n",
       "3                   87.925                             NaN   \n",
       "4                   90.781                             NaN   \n",
       "5                   91.283                             NaN   \n",
       "\n",
       "   Accuracy(After tuning)  \n",
       "0                  77.317  \n",
       "1                  90.184  \n",
       "2                     NaN  \n",
       "3                     NaN  \n",
       "4                     NaN  \n",
       "5                     NaN  "
      ]
     },
     "execution_count": 25,
     "metadata": {},
     "output_type": "execute_result"
    }
   ],
   "source": [
    "Results['Validation Score(After tuning)'][1] = rmsle\n",
    "Results['Accuracy(After tuning)'][1] = score\n",
    "Results"
   ]
  },
  {
   "cell_type": "markdown",
   "metadata": {},
   "source": [
    "#####   "
   ]
  },
  {
   "cell_type": "markdown",
   "metadata": {},
   "source": [
    "#### 3. K Nearest neighbours"
   ]
  },
  {
   "cell_type": "code",
   "execution_count": 26,
   "metadata": {},
   "outputs": [
    {
     "name": "stdout",
     "output_type": "stream",
     "text": [
      "Best parameters:  {'leaf_size': 50, 'n_neighbors': 7, 'p': 1}\n",
      "MSLE:  -0.0015305808594260795\n"
     ]
    }
   ],
   "source": [
    "from sklearn.neighbors import KNeighborsRegressor\n",
    "\n",
    "param_knn = {\n",
    "    'leaf_size': [20, 50, 60], #Leaf size affect the speed of the construction and query, \n",
    "                                   #as well as the memory required to store the tree.\n",
    "    'n_neighbors': [5,7,9], #Number of neighbouring points to consider\n",
    "    'p': [1,2] #p = 1 for manhattan_distance, p = 2 for euclidean distance            \n",
    "    }\n",
    "\n",
    "knn = KNeighborsRegressor()\n",
    "grid_search(knn,param_knn)"
   ]
  },
  {
   "cell_type": "code",
   "execution_count": 27,
   "metadata": {},
   "outputs": [
    {
     "name": "stdout",
     "output_type": "stream",
     "text": [
      "RMSLE score:  0.03756992213538703\n",
      "Accuracy score:  89.92\n"
     ]
    }
   ],
   "source": [
    "#Retraining model with best parameters\n",
    "\n",
    "knn = KNeighborsRegressor(leaf_size = 50, n_neighbors = 7, p = 1)\n",
    "\n",
    "knn.fit(x_train_scaled, y_train_log) #Fitting or training the data\n",
    "\n",
    "y_val_pred_log = knn.predict(x_val_scaled)#Predicting on validation set\n",
    "\n",
    "rmsle = np.sqrt(mean_squared_log_error(y_val_log, y_val_pred_log)) #Evaluating model rmsle score by comparing actual and predicted results\n",
    "score = ((knn.score(x_val_scaled,y_val_log))*100).round(3)\n",
    "\n",
    "print(\"RMSLE score: \", rmsle)\n",
    "\n",
    "print(\"Accuracy score: \", score)"
   ]
  },
  {
   "cell_type": "code",
   "execution_count": 28,
   "metadata": {},
   "outputs": [
    {
     "data": {
      "text/html": [
       "<div>\n",
       "<style scoped>\n",
       "    .dataframe tbody tr th:only-of-type {\n",
       "        vertical-align: middle;\n",
       "    }\n",
       "\n",
       "    .dataframe tbody tr th {\n",
       "        vertical-align: top;\n",
       "    }\n",
       "\n",
       "    .dataframe thead th {\n",
       "        text-align: right;\n",
       "    }\n",
       "</style>\n",
       "<table border=\"1\" class=\"dataframe\">\n",
       "  <thead>\n",
       "    <tr style=\"text-align: right;\">\n",
       "      <th></th>\n",
       "      <th>Model</th>\n",
       "      <th>Validation Score(Before tuning)</th>\n",
       "      <th>Accuracy(Before tuning)</th>\n",
       "      <th>Validation Score(After tuning)</th>\n",
       "      <th>Accuracy(After tuning)</th>\n",
       "    </tr>\n",
       "  </thead>\n",
       "  <tbody>\n",
       "    <tr>\n",
       "      <th>0</th>\n",
       "      <td>Linear Regression</td>\n",
       "      <td>0.058461</td>\n",
       "      <td>77.317</td>\n",
       "      <td>0.058461</td>\n",
       "      <td>77.317</td>\n",
       "    </tr>\n",
       "    <tr>\n",
       "      <th>1</th>\n",
       "      <td>Random Forest</td>\n",
       "      <td>0.037815</td>\n",
       "      <td>89.968</td>\n",
       "      <td>0.037368</td>\n",
       "      <td>90.184</td>\n",
       "    </tr>\n",
       "    <tr>\n",
       "      <th>2</th>\n",
       "      <td>K Nearest Neighbours</td>\n",
       "      <td>0.038233</td>\n",
       "      <td>89.490</td>\n",
       "      <td>0.037570</td>\n",
       "      <td>89.920</td>\n",
       "    </tr>\n",
       "    <tr>\n",
       "      <th>3</th>\n",
       "      <td>XGBoost</td>\n",
       "      <td>0.040959</td>\n",
       "      <td>87.925</td>\n",
       "      <td>NaN</td>\n",
       "      <td>NaN</td>\n",
       "    </tr>\n",
       "    <tr>\n",
       "      <th>4</th>\n",
       "      <td>Light GBM</td>\n",
       "      <td>0.036177</td>\n",
       "      <td>90.781</td>\n",
       "      <td>NaN</td>\n",
       "      <td>NaN</td>\n",
       "    </tr>\n",
       "    <tr>\n",
       "      <th>5</th>\n",
       "      <td>CatBoost</td>\n",
       "      <td>0.035341</td>\n",
       "      <td>91.283</td>\n",
       "      <td>NaN</td>\n",
       "      <td>NaN</td>\n",
       "    </tr>\n",
       "  </tbody>\n",
       "</table>\n",
       "</div>"
      ],
      "text/plain": [
       "                  Model  Validation Score(Before tuning)  \\\n",
       "0     Linear Regression                         0.058461   \n",
       "1         Random Forest                         0.037815   \n",
       "2  K Nearest Neighbours                         0.038233   \n",
       "3               XGBoost                         0.040959   \n",
       "4             Light GBM                         0.036177   \n",
       "5              CatBoost                         0.035341   \n",
       "\n",
       "   Accuracy(Before tuning)  Validation Score(After tuning)  \\\n",
       "0                   77.317                        0.058461   \n",
       "1                   89.968                        0.037368   \n",
       "2                   89.490                        0.037570   \n",
       "3                   87.925                             NaN   \n",
       "4                   90.781                             NaN   \n",
       "5                   91.283                             NaN   \n",
       "\n",
       "   Accuracy(After tuning)  \n",
       "0                  77.317  \n",
       "1                  90.184  \n",
       "2                  89.920  \n",
       "3                     NaN  \n",
       "4                     NaN  \n",
       "5                     NaN  "
      ]
     },
     "execution_count": 28,
     "metadata": {},
     "output_type": "execute_result"
    }
   ],
   "source": [
    "Results['Validation Score(After tuning)'][2] = rmsle\n",
    "Results['Accuracy(After tuning)'][2] = score\n",
    "Results"
   ]
  },
  {
   "cell_type": "markdown",
   "metadata": {},
   "source": [
    "#####   "
   ]
  },
  {
   "cell_type": "markdown",
   "metadata": {},
   "source": [
    "#### 4. XGBoost"
   ]
  },
  {
   "cell_type": "code",
   "execution_count": 29,
   "metadata": {},
   "outputs": [
    {
     "name": "stdout",
     "output_type": "stream",
     "text": [
      "[16:28:19] WARNING: src/objective/regression_obj.cu:152: reg:linear is now deprecated in favor of reg:squarederror.\n",
      "Best parameters:  {'gamma': 0.1, 'learning_rate': 0.1, 'max_depth': 12, 'min_child_weight': 10}\n",
      "MSLE:  -0.0012454023711729076\n"
     ]
    }
   ],
   "source": [
    "from xgboost import XGBRegressor\n",
    "\n",
    "param_xgb = {\n",
    "    \"learning_rate\"    : [0.05, 0.1], #The learning rate of the algorithm\n",
    "    \"max_depth\"        : [12, 13, 14], #Maximum height of the boosted trees\n",
    "    \"min_child_weight\" : [10, 12], #Minimum sum of instance weight(hessian) needed in a child.\n",
    "    \"gamma\"            : [ 0.0, 0.1], #Minimum loss reduction required to make a further partition on a leaf node\n",
    "    }\n",
    "\n",
    "xgb = XGBRegressor()\n",
    "grid_search(xgb,param_xgb)"
   ]
  },
  {
   "cell_type": "code",
   "execution_count": 30,
   "metadata": {},
   "outputs": [
    {
     "name": "stdout",
     "output_type": "stream",
     "text": [
      "[16:28:23] WARNING: src/objective/regression_obj.cu:152: reg:linear is now deprecated in favor of reg:squarederror.\n",
      "RMSLE score:  0.03553172096309003\n",
      "Accuracy score:  91.264\n"
     ]
    }
   ],
   "source": [
    "#Retraining model with best parameters\n",
    "\n",
    "xgb = XGBRegressor(gamma = 0.1, learning_rate = 0.1, max_depth = 12, min_child_weight = 10)\n",
    "\n",
    "xgb.fit(x_train_scaled, y_train_log) #Fitting or training the data\n",
    "\n",
    "y_val_pred_log = xgb.predict(x_val_scaled)#Predicting on validation set\n",
    "\n",
    "rmsle = np.sqrt(mean_squared_log_error(y_val_log, y_val_pred_log)) #Evaluating model rmsle score by comparing actual and predicted results\n",
    "score = ((xgb.score(x_val_scaled,y_val_log))*100).round(3)\n",
    "\n",
    "print(\"RMSLE score: \", rmsle)\n",
    "\n",
    "print(\"Accuracy score: \", score)"
   ]
  },
  {
   "cell_type": "code",
   "execution_count": 31,
   "metadata": {
    "scrolled": true
   },
   "outputs": [
    {
     "data": {
      "text/html": [
       "<div>\n",
       "<style scoped>\n",
       "    .dataframe tbody tr th:only-of-type {\n",
       "        vertical-align: middle;\n",
       "    }\n",
       "\n",
       "    .dataframe tbody tr th {\n",
       "        vertical-align: top;\n",
       "    }\n",
       "\n",
       "    .dataframe thead th {\n",
       "        text-align: right;\n",
       "    }\n",
       "</style>\n",
       "<table border=\"1\" class=\"dataframe\">\n",
       "  <thead>\n",
       "    <tr style=\"text-align: right;\">\n",
       "      <th></th>\n",
       "      <th>Model</th>\n",
       "      <th>Validation Score(Before tuning)</th>\n",
       "      <th>Accuracy(Before tuning)</th>\n",
       "      <th>Validation Score(After tuning)</th>\n",
       "      <th>Accuracy(After tuning)</th>\n",
       "    </tr>\n",
       "  </thead>\n",
       "  <tbody>\n",
       "    <tr>\n",
       "      <th>0</th>\n",
       "      <td>Linear Regression</td>\n",
       "      <td>0.058461</td>\n",
       "      <td>77.317</td>\n",
       "      <td>0.058461</td>\n",
       "      <td>77.317</td>\n",
       "    </tr>\n",
       "    <tr>\n",
       "      <th>1</th>\n",
       "      <td>Random Forest</td>\n",
       "      <td>0.037815</td>\n",
       "      <td>89.968</td>\n",
       "      <td>0.037368</td>\n",
       "      <td>90.184</td>\n",
       "    </tr>\n",
       "    <tr>\n",
       "      <th>2</th>\n",
       "      <td>K Nearest Neighbours</td>\n",
       "      <td>0.038233</td>\n",
       "      <td>89.490</td>\n",
       "      <td>0.037570</td>\n",
       "      <td>89.920</td>\n",
       "    </tr>\n",
       "    <tr>\n",
       "      <th>3</th>\n",
       "      <td>XGBoost</td>\n",
       "      <td>0.040959</td>\n",
       "      <td>87.925</td>\n",
       "      <td>0.035532</td>\n",
       "      <td>91.264</td>\n",
       "    </tr>\n",
       "    <tr>\n",
       "      <th>4</th>\n",
       "      <td>Light GBM</td>\n",
       "      <td>0.036177</td>\n",
       "      <td>90.781</td>\n",
       "      <td>NaN</td>\n",
       "      <td>NaN</td>\n",
       "    </tr>\n",
       "    <tr>\n",
       "      <th>5</th>\n",
       "      <td>CatBoost</td>\n",
       "      <td>0.035341</td>\n",
       "      <td>91.283</td>\n",
       "      <td>NaN</td>\n",
       "      <td>NaN</td>\n",
       "    </tr>\n",
       "  </tbody>\n",
       "</table>\n",
       "</div>"
      ],
      "text/plain": [
       "                  Model  Validation Score(Before tuning)  \\\n",
       "0     Linear Regression                         0.058461   \n",
       "1         Random Forest                         0.037815   \n",
       "2  K Nearest Neighbours                         0.038233   \n",
       "3               XGBoost                         0.040959   \n",
       "4             Light GBM                         0.036177   \n",
       "5              CatBoost                         0.035341   \n",
       "\n",
       "   Accuracy(Before tuning)  Validation Score(After tuning)  \\\n",
       "0                   77.317                        0.058461   \n",
       "1                   89.968                        0.037368   \n",
       "2                   89.490                        0.037570   \n",
       "3                   87.925                        0.035532   \n",
       "4                   90.781                             NaN   \n",
       "5                   91.283                             NaN   \n",
       "\n",
       "   Accuracy(After tuning)  \n",
       "0                  77.317  \n",
       "1                  90.184  \n",
       "2                  89.920  \n",
       "3                  91.264  \n",
       "4                     NaN  \n",
       "5                     NaN  "
      ]
     },
     "execution_count": 31,
     "metadata": {},
     "output_type": "execute_result"
    }
   ],
   "source": [
    "Results['Validation Score(After tuning)'][3] = rmsle\n",
    "Results['Accuracy(After tuning)'][3] = score\n",
    "Results"
   ]
  },
  {
   "cell_type": "markdown",
   "metadata": {},
   "source": [
    "#####   "
   ]
  },
  {
   "cell_type": "markdown",
   "metadata": {},
   "source": [
    "#### 5. Light GBM"
   ]
  },
  {
   "cell_type": "code",
   "execution_count": 32,
   "metadata": {},
   "outputs": [
    {
     "name": "stdout",
     "output_type": "stream",
     "text": [
      "[LightGBM] [Warning] feature_fraction is set=0.8, colsample_bytree=1.0 will be ignored. Current value: feature_fraction=0.8\n",
      "Best parameters:  {'feature_fraction': 0.8, 'learning_rate': 0.2, 'max_depth': 17, 'num_leaves': 25, 'subsample': 0.2}\n",
      "MSLE:  -0.0012692575525791328\n"
     ]
    }
   ],
   "source": [
    "from lightgbm import LGBMRegressor\n",
    "\n",
    "param_lgb = {\n",
    "    \n",
    "    'learning_rate': [0.5, 0.4, 0.2, 0.1], #Learning rate of the algorithm\n",
    "    'max_depth': [10, 12, 15, 17], #Maximum height of trees\n",
    "    'num_leaves': [15, 20, 25], #Maximum number of leaves for base learners\n",
    "    'feature_fraction': [0.6, 0.8], #Random fraction of features to be used while training\n",
    "    'subsample': [0.2, 0.5], #Random fraction of records to be used while training\n",
    "    }\n",
    "\n",
    "lgb = LGBMRegressor()\n",
    "grid_search(lgb,param_lgb)"
   ]
  },
  {
   "cell_type": "code",
   "execution_count": 33,
   "metadata": {},
   "outputs": [
    {
     "name": "stdout",
     "output_type": "stream",
     "text": [
      "RMSLE score:  0.03613911435416256\n",
      "Accuracy score:  90.809\n"
     ]
    }
   ],
   "source": [
    "#Retraining model with best parameters\n",
    "\n",
    "lgbr = LGBMRegressor(feature_fraction = 0.8, learning_rate = 0.2, max_depth = 17, num_leaves = 25, subsample = 0.2)\n",
    "\n",
    "lgbr.fit(x_train_scaled, y_train_log) #Fitting or training the data\n",
    " \n",
    "y_val_pred_log = lgbr.predict(x_val_scaled)#Predicting on validation set\n",
    "\n",
    "rmsle = np.sqrt(mean_squared_log_error(y_val_log, y_val_pred_log)) #Evaluating model rmsle score by comparing actual and predicted results\n",
    "score = ((lgbr.score(x_val_scaled,y_val_log))*100).round(3)\n",
    "\n",
    "print(\"RMSLE score: \", rmsle)\n",
    "\n",
    "print(\"Accuracy score: \", score)"
   ]
  },
  {
   "cell_type": "code",
   "execution_count": 34,
   "metadata": {},
   "outputs": [
    {
     "data": {
      "text/html": [
       "<div>\n",
       "<style scoped>\n",
       "    .dataframe tbody tr th:only-of-type {\n",
       "        vertical-align: middle;\n",
       "    }\n",
       "\n",
       "    .dataframe tbody tr th {\n",
       "        vertical-align: top;\n",
       "    }\n",
       "\n",
       "    .dataframe thead th {\n",
       "        text-align: right;\n",
       "    }\n",
       "</style>\n",
       "<table border=\"1\" class=\"dataframe\">\n",
       "  <thead>\n",
       "    <tr style=\"text-align: right;\">\n",
       "      <th></th>\n",
       "      <th>Model</th>\n",
       "      <th>Validation Score(Before tuning)</th>\n",
       "      <th>Accuracy(Before tuning)</th>\n",
       "      <th>Validation Score(After tuning)</th>\n",
       "      <th>Accuracy(After tuning)</th>\n",
       "    </tr>\n",
       "  </thead>\n",
       "  <tbody>\n",
       "    <tr>\n",
       "      <th>0</th>\n",
       "      <td>Linear Regression</td>\n",
       "      <td>0.058461</td>\n",
       "      <td>77.317</td>\n",
       "      <td>0.058461</td>\n",
       "      <td>77.317</td>\n",
       "    </tr>\n",
       "    <tr>\n",
       "      <th>1</th>\n",
       "      <td>Random Forest</td>\n",
       "      <td>0.037815</td>\n",
       "      <td>89.968</td>\n",
       "      <td>0.037368</td>\n",
       "      <td>90.184</td>\n",
       "    </tr>\n",
       "    <tr>\n",
       "      <th>2</th>\n",
       "      <td>K Nearest Neighbours</td>\n",
       "      <td>0.038233</td>\n",
       "      <td>89.490</td>\n",
       "      <td>0.037570</td>\n",
       "      <td>89.920</td>\n",
       "    </tr>\n",
       "    <tr>\n",
       "      <th>3</th>\n",
       "      <td>XGBoost</td>\n",
       "      <td>0.040959</td>\n",
       "      <td>87.925</td>\n",
       "      <td>0.035532</td>\n",
       "      <td>91.264</td>\n",
       "    </tr>\n",
       "    <tr>\n",
       "      <th>4</th>\n",
       "      <td>Light GBM</td>\n",
       "      <td>0.036177</td>\n",
       "      <td>90.781</td>\n",
       "      <td>0.036139</td>\n",
       "      <td>90.809</td>\n",
       "    </tr>\n",
       "    <tr>\n",
       "      <th>5</th>\n",
       "      <td>CatBoost</td>\n",
       "      <td>0.035341</td>\n",
       "      <td>91.283</td>\n",
       "      <td>NaN</td>\n",
       "      <td>NaN</td>\n",
       "    </tr>\n",
       "  </tbody>\n",
       "</table>\n",
       "</div>"
      ],
      "text/plain": [
       "                  Model  Validation Score(Before tuning)  \\\n",
       "0     Linear Regression                         0.058461   \n",
       "1         Random Forest                         0.037815   \n",
       "2  K Nearest Neighbours                         0.038233   \n",
       "3               XGBoost                         0.040959   \n",
       "4             Light GBM                         0.036177   \n",
       "5              CatBoost                         0.035341   \n",
       "\n",
       "   Accuracy(Before tuning)  Validation Score(After tuning)  \\\n",
       "0                   77.317                        0.058461   \n",
       "1                   89.968                        0.037368   \n",
       "2                   89.490                        0.037570   \n",
       "3                   87.925                        0.035532   \n",
       "4                   90.781                        0.036139   \n",
       "5                   91.283                             NaN   \n",
       "\n",
       "   Accuracy(After tuning)  \n",
       "0                  77.317  \n",
       "1                  90.184  \n",
       "2                  89.920  \n",
       "3                  91.264  \n",
       "4                  90.809  \n",
       "5                     NaN  "
      ]
     },
     "execution_count": 34,
     "metadata": {},
     "output_type": "execute_result"
    }
   ],
   "source": [
    "Results['Validation Score(After tuning)'][4] = rmsle\n",
    "Results['Accuracy(After tuning)'][4] = score\n",
    "Results"
   ]
  },
  {
   "cell_type": "markdown",
   "metadata": {},
   "source": [
    "######    "
   ]
  },
  {
   "cell_type": "markdown",
   "metadata": {},
   "source": [
    "#### 6. CatBoost"
   ]
  },
  {
   "cell_type": "code",
   "execution_count": 35,
   "metadata": {},
   "outputs": [
    {
     "name": "stdout",
     "output_type": "stream",
     "text": [
      "Best parameters:  {'bagging_temperature': 3, 'depth': 8, 'l2_leaf_reg': 0.5, 'learning_rate': 0.05}\n",
      "MSLE:  -0.0012095789095128227\n"
     ]
    }
   ],
   "source": [
    "from catboost import CatBoostRegressor\n",
    "\n",
    "param_cb = {\n",
    "    \n",
    "    'learning_rate': [0.1, 0.05], #Learning rate of algorithm\n",
    "    'depth': [8, 10], #Lower value prevents overfitting\n",
    "    'bagging_temperature': [3, 10], #Helps to tackale overfitting\n",
    "    'l2_leaf_reg' : [0.5, 1] #Regularization term\n",
    "    \n",
    "    }\n",
    "\n",
    "cb = CatBoostRegressor(early_stopping_rounds = 10, verbose = False)\n",
    "grid_search(cb,param_cb)"
   ]
  },
  {
   "cell_type": "code",
   "execution_count": 36,
   "metadata": {},
   "outputs": [
    {
     "name": "stdout",
     "output_type": "stream",
     "text": [
      "0:\tlearn: 0.9789353\ttotal: 15.8ms\tremaining: 15.8s\n",
      "200:\tlearn: 0.3043661\ttotal: 2.33s\tremaining: 9.26s\n",
      "400:\tlearn: 0.2784122\ttotal: 4.57s\tremaining: 6.83s\n",
      "600:\tlearn: 0.2649057\ttotal: 6.68s\tremaining: 4.44s\n",
      "800:\tlearn: 0.2554966\ttotal: 8.8s\tremaining: 2.19s\n",
      "999:\tlearn: 0.2478434\ttotal: 10.9s\tremaining: 0us\n",
      "RMSLE score:  0.0352913178210058\n",
      "Accuracy score:  91.335\n"
     ]
    }
   ],
   "source": [
    "#Retraining model with best parameters\n",
    "\n",
    "cb = CatBoostRegressor(bagging_temperature = 3, depth = 8, l2_leaf_reg = 0.5, learning_rate = 0.05)\n",
    "\n",
    "cb.fit(x_train_scaled, y_train_log, verbose = 200) #Fitting or training the data\n",
    "\n",
    "y_val_pred_log = cb.predict(x_val_scaled) #Predicting on validation set\n",
    "\n",
    "rmsle = np.sqrt(mean_squared_log_error(y_val_log, y_val_pred_log)) #Evaluating model rmsle score by comparing actual and predicted results\n",
    "score = ((cb.score(x_val_scaled,y_val_log))*100).round(3)\n",
    "\n",
    "print(\"RMSLE score: \", rmsle)\n",
    "\n",
    "print(\"Accuracy score: \", score)"
   ]
  },
  {
   "cell_type": "code",
   "execution_count": 37,
   "metadata": {},
   "outputs": [
    {
     "data": {
      "text/html": [
       "<div>\n",
       "<style scoped>\n",
       "    .dataframe tbody tr th:only-of-type {\n",
       "        vertical-align: middle;\n",
       "    }\n",
       "\n",
       "    .dataframe tbody tr th {\n",
       "        vertical-align: top;\n",
       "    }\n",
       "\n",
       "    .dataframe thead th {\n",
       "        text-align: right;\n",
       "    }\n",
       "</style>\n",
       "<table border=\"1\" class=\"dataframe\">\n",
       "  <thead>\n",
       "    <tr style=\"text-align: right;\">\n",
       "      <th></th>\n",
       "      <th>Model</th>\n",
       "      <th>Validation Score(Before tuning)</th>\n",
       "      <th>Accuracy(Before tuning)</th>\n",
       "      <th>Validation Score(After tuning)</th>\n",
       "      <th>Accuracy(After tuning)</th>\n",
       "    </tr>\n",
       "  </thead>\n",
       "  <tbody>\n",
       "    <tr>\n",
       "      <th>0</th>\n",
       "      <td>Linear Regression</td>\n",
       "      <td>0.058461</td>\n",
       "      <td>77.317</td>\n",
       "      <td>0.058461</td>\n",
       "      <td>77.317</td>\n",
       "    </tr>\n",
       "    <tr>\n",
       "      <th>1</th>\n",
       "      <td>Random Forest</td>\n",
       "      <td>0.037815</td>\n",
       "      <td>89.968</td>\n",
       "      <td>0.037368</td>\n",
       "      <td>90.184</td>\n",
       "    </tr>\n",
       "    <tr>\n",
       "      <th>2</th>\n",
       "      <td>K Nearest Neighbours</td>\n",
       "      <td>0.038233</td>\n",
       "      <td>89.490</td>\n",
       "      <td>0.037570</td>\n",
       "      <td>89.920</td>\n",
       "    </tr>\n",
       "    <tr>\n",
       "      <th>3</th>\n",
       "      <td>XGBoost</td>\n",
       "      <td>0.040959</td>\n",
       "      <td>87.925</td>\n",
       "      <td>0.035532</td>\n",
       "      <td>91.264</td>\n",
       "    </tr>\n",
       "    <tr>\n",
       "      <th>4</th>\n",
       "      <td>Light GBM</td>\n",
       "      <td>0.036177</td>\n",
       "      <td>90.781</td>\n",
       "      <td>0.036139</td>\n",
       "      <td>90.809</td>\n",
       "    </tr>\n",
       "    <tr>\n",
       "      <th>5</th>\n",
       "      <td>CatBoost</td>\n",
       "      <td>0.035341</td>\n",
       "      <td>91.283</td>\n",
       "      <td>0.035291</td>\n",
       "      <td>91.335</td>\n",
       "    </tr>\n",
       "  </tbody>\n",
       "</table>\n",
       "</div>"
      ],
      "text/plain": [
       "                  Model  Validation Score(Before tuning)  \\\n",
       "0     Linear Regression                         0.058461   \n",
       "1         Random Forest                         0.037815   \n",
       "2  K Nearest Neighbours                         0.038233   \n",
       "3               XGBoost                         0.040959   \n",
       "4             Light GBM                         0.036177   \n",
       "5              CatBoost                         0.035341   \n",
       "\n",
       "   Accuracy(Before tuning)  Validation Score(After tuning)  \\\n",
       "0                   77.317                        0.058461   \n",
       "1                   89.968                        0.037368   \n",
       "2                   89.490                        0.037570   \n",
       "3                   87.925                        0.035532   \n",
       "4                   90.781                        0.036139   \n",
       "5                   91.283                        0.035291   \n",
       "\n",
       "   Accuracy(After tuning)  \n",
       "0                  77.317  \n",
       "1                  90.184  \n",
       "2                  89.920  \n",
       "3                  91.264  \n",
       "4                  90.809  \n",
       "5                  91.335  "
      ]
     },
     "execution_count": 37,
     "metadata": {},
     "output_type": "execute_result"
    }
   ],
   "source": [
    "Results['Validation Score(After tuning)'][5] = rmsle\n",
    "Results['Accuracy(After tuning)'][5] = score\n",
    "Results"
   ]
  },
  {
   "cell_type": "markdown",
   "metadata": {},
   "source": [
    "**XGBoost and CatBoost both performed better than all the other models tested for this dataset.**\n",
    "\n",
    "**Since both RMSLE score and Accuracy of CatBoost is better than XGBoost, Hence CatBoost is considered as the best model for this dataset.**"
   ]
  },
  {
   "cell_type": "markdown",
   "metadata": {},
   "source": [
    "Let's perform a final evaluation on our test set."
   ]
  },
  {
   "cell_type": "code",
   "execution_count": 38,
   "metadata": {},
   "outputs": [
    {
     "name": "stdout",
     "output_type": "stream",
     "text": [
      "RMSLE score:  0.03488305748337859\n",
      "Accuracy score:  91.596\n"
     ]
    }
   ],
   "source": [
    "y_test_pred_log = cb.predict(x_test_scaled) #Predicting on test set\n",
    "\n",
    "rmsle = np.sqrt(mean_squared_log_error(y_test_log, y_test_pred_log)) #Evaluating model rmsle score by comparing actual and predicted results\n",
    "score = ((cb.score(x_test_scaled,y_test_log))*100).round(3)\n",
    "\n",
    "print(\"RMSLE score: \", rmsle)\n",
    "\n",
    "print(\"Accuracy score: \", score)"
   ]
  },
  {
   "cell_type": "markdown",
   "metadata": {},
   "source": [
    "**Both Root mean squared log error and Accuracy of the model on the test set is amazing.**"
   ]
  },
  {
   "cell_type": "markdown",
   "metadata": {},
   "source": [
    "#####  "
   ]
  },
  {
   "cell_type": "markdown",
   "metadata": {},
   "source": [
    "## Saving the scaler object"
   ]
  },
  {
   "cell_type": "code",
   "execution_count": 39,
   "metadata": {},
   "outputs": [],
   "source": [
    "filehandler = open(\"scaler.pickle\", \"wb\")\n",
    "\n",
    "pickle.dump(scaler, filehandler)\n",
    "\n",
    "filehandler.close()"
   ]
  },
  {
   "cell_type": "markdown",
   "metadata": {},
   "source": [
    "## Saving Model"
   ]
  },
  {
   "cell_type": "code",
   "execution_count": 40,
   "metadata": {},
   "outputs": [],
   "source": [
    "filehandler = open(\"CatBoostRegressor.pickle\", \"wb\")\n",
    "\n",
    "pickle.dump(cb, filehandler)\n",
    "\n",
    "filehandler.close()"
   ]
  },
  {
   "cell_type": "markdown",
   "metadata": {},
   "source": [
    "## Saving Model comparison chart"
   ]
  },
  {
   "cell_type": "code",
   "execution_count": 41,
   "metadata": {},
   "outputs": [],
   "source": [
    "Results.to_csv(\"Model_comparison.csv\")"
   ]
  }
 ],
 "metadata": {
  "kernelspec": {
   "display_name": "Python [conda env:py3-TF]",
   "language": "python",
   "name": "conda-env-py3-TF-py"
  },
  "language_info": {
   "codemirror_mode": {
    "name": "ipython",
    "version": 3
   },
   "file_extension": ".py",
   "mimetype": "text/x-python",
   "name": "python",
   "nbconvert_exporter": "python",
   "pygments_lexer": "ipython3",
   "version": "3.7.9"
  }
 },
 "nbformat": 4,
 "nbformat_minor": 4
}
