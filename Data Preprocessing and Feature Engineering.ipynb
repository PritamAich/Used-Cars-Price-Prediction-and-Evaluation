{
 "cells": [
  {
   "cell_type": "markdown",
   "metadata": {},
   "source": [
    "## Importing libraries"
   ]
  },
  {
   "cell_type": "code",
   "execution_count": 1,
   "metadata": {},
   "outputs": [],
   "source": [
    "import pandas as pd\n",
    "import numpy as np\n",
    "\n",
    "import matplotlib.pyplot as plt\n",
    "import seaborn as sns\n",
    "sns.set_style('whitegrid')\n",
    "\n",
    "import warnings\n",
    "warnings.filterwarnings(\"ignore\")"
   ]
  },
  {
   "cell_type": "code",
   "execution_count": 2,
   "metadata": {},
   "outputs": [],
   "source": [
    "raw_data = pd.read_csv('cars_price.csv')\n",
    "data = raw_data.copy()\n",
    "data = data.drop(\"Unnamed: 0\", axis = 1)"
   ]
  },
  {
   "cell_type": "code",
   "execution_count": 3,
   "metadata": {},
   "outputs": [
    {
     "data": {
      "text/html": [
       "<div>\n",
       "<style scoped>\n",
       "    .dataframe tbody tr th:only-of-type {\n",
       "        vertical-align: middle;\n",
       "    }\n",
       "\n",
       "    .dataframe tbody tr th {\n",
       "        vertical-align: top;\n",
       "    }\n",
       "\n",
       "    .dataframe thead th {\n",
       "        text-align: right;\n",
       "    }\n",
       "</style>\n",
       "<table border=\"1\" class=\"dataframe\">\n",
       "  <thead>\n",
       "    <tr style=\"text-align: right;\">\n",
       "      <th></th>\n",
       "      <th>make</th>\n",
       "      <th>model</th>\n",
       "      <th>priceUSD</th>\n",
       "      <th>year</th>\n",
       "      <th>condition</th>\n",
       "      <th>mileage(kilometers)</th>\n",
       "      <th>fuel_type</th>\n",
       "      <th>volume(cm3)</th>\n",
       "      <th>color</th>\n",
       "      <th>transmission</th>\n",
       "      <th>drive_unit</th>\n",
       "      <th>segment</th>\n",
       "    </tr>\n",
       "  </thead>\n",
       "  <tbody>\n",
       "    <tr>\n",
       "      <th>0</th>\n",
       "      <td>honda</td>\n",
       "      <td>accord</td>\n",
       "      <td>565</td>\n",
       "      <td>1993</td>\n",
       "      <td>with mileage</td>\n",
       "      <td>960015.0</td>\n",
       "      <td>petrol</td>\n",
       "      <td>2000.0</td>\n",
       "      <td>black</td>\n",
       "      <td>mechanics</td>\n",
       "      <td>front-wheel drive</td>\n",
       "      <td>D</td>\n",
       "    </tr>\n",
       "    <tr>\n",
       "      <th>1</th>\n",
       "      <td>ford</td>\n",
       "      <td>fusion</td>\n",
       "      <td>5550</td>\n",
       "      <td>2008</td>\n",
       "      <td>with mileage</td>\n",
       "      <td>172000.0</td>\n",
       "      <td>diesel</td>\n",
       "      <td>1400.0</td>\n",
       "      <td>silver</td>\n",
       "      <td>mechanics</td>\n",
       "      <td>front-wheel drive</td>\n",
       "      <td>M</td>\n",
       "    </tr>\n",
       "    <tr>\n",
       "      <th>2</th>\n",
       "      <td>nissan</td>\n",
       "      <td>teana</td>\n",
       "      <td>8300</td>\n",
       "      <td>2008</td>\n",
       "      <td>with mileage</td>\n",
       "      <td>223000.0</td>\n",
       "      <td>petrol</td>\n",
       "      <td>2500.0</td>\n",
       "      <td>purple</td>\n",
       "      <td>auto</td>\n",
       "      <td>front-wheel drive</td>\n",
       "      <td>D</td>\n",
       "    </tr>\n",
       "    <tr>\n",
       "      <th>3</th>\n",
       "      <td>volkswagen</td>\n",
       "      <td>fox</td>\n",
       "      <td>3300</td>\n",
       "      <td>2005</td>\n",
       "      <td>with mileage</td>\n",
       "      <td>140000.0</td>\n",
       "      <td>petrol</td>\n",
       "      <td>1200.0</td>\n",
       "      <td>blue</td>\n",
       "      <td>mechanics</td>\n",
       "      <td>front-wheel drive</td>\n",
       "      <td>A</td>\n",
       "    </tr>\n",
       "    <tr>\n",
       "      <th>4</th>\n",
       "      <td>nissan</td>\n",
       "      <td>primera</td>\n",
       "      <td>2450</td>\n",
       "      <td>2002</td>\n",
       "      <td>with damage</td>\n",
       "      <td>413000.0</td>\n",
       "      <td>diesel</td>\n",
       "      <td>2200.0</td>\n",
       "      <td>burgundy</td>\n",
       "      <td>mechanics</td>\n",
       "      <td>front-wheel drive</td>\n",
       "      <td>D</td>\n",
       "    </tr>\n",
       "  </tbody>\n",
       "</table>\n",
       "</div>"
      ],
      "text/plain": [
       "         make    model  priceUSD  year     condition  mileage(kilometers)  \\\n",
       "0       honda   accord       565  1993  with mileage             960015.0   \n",
       "1        ford   fusion      5550  2008  with mileage             172000.0   \n",
       "2      nissan    teana      8300  2008  with mileage             223000.0   \n",
       "3  volkswagen      fox      3300  2005  with mileage             140000.0   \n",
       "4      nissan  primera      2450  2002   with damage             413000.0   \n",
       "\n",
       "  fuel_type  volume(cm3)     color transmission         drive_unit segment  \n",
       "0    petrol       2000.0     black    mechanics  front-wheel drive       D  \n",
       "1    diesel       1400.0    silver    mechanics  front-wheel drive       M  \n",
       "2    petrol       2500.0    purple         auto  front-wheel drive       D  \n",
       "3    petrol       1200.0      blue    mechanics  front-wheel drive       A  \n",
       "4    diesel       2200.0  burgundy    mechanics  front-wheel drive       D  "
      ]
     },
     "execution_count": 3,
     "metadata": {},
     "output_type": "execute_result"
    }
   ],
   "source": [
    "data.head()"
   ]
  },
  {
   "cell_type": "code",
   "execution_count": 4,
   "metadata": {},
   "outputs": [
    {
     "data": {
      "text/plain": [
       "93"
      ]
     },
     "execution_count": 4,
     "metadata": {},
     "output_type": "execute_result"
    }
   ],
   "source": [
    "data['make'].nunique()"
   ]
  },
  {
   "cell_type": "markdown",
   "metadata": {},
   "source": [
    "#### Checking Null values"
   ]
  },
  {
   "cell_type": "code",
   "execution_count": 5,
   "metadata": {},
   "outputs": [
    {
     "data": {
      "text/plain": [
       "make                      0\n",
       "model                     0\n",
       "priceUSD                  0\n",
       "year                      0\n",
       "condition                 0\n",
       "mileage(kilometers)       0\n",
       "fuel_type                 0\n",
       "volume(cm3)              30\n",
       "color                     0\n",
       "transmission              0\n",
       "drive_unit             1345\n",
       "segment                3755\n",
       "dtype: int64"
      ]
     },
     "execution_count": 5,
     "metadata": {},
     "output_type": "execute_result"
    }
   ],
   "source": [
    "data.isnull().sum()"
   ]
  },
  {
   "cell_type": "markdown",
   "metadata": {},
   "source": [
    "We got some null values in 'volume(cm3)', 'drive_unit', 'segment'.\n",
    "\n",
    "Among these, 'volume(cm3)' is numerical, and 'drive_unit and 'segment' both are categorical features."
   ]
  },
  {
   "cell_type": "markdown",
   "metadata": {},
   "source": [
    "#### Imputing numerical features"
   ]
  },
  {
   "cell_type": "code",
   "execution_count": 6,
   "metadata": {},
   "outputs": [],
   "source": [
    "def numerical_null_impute(data, feature_names, method = 'mean'):\n",
    "    \"\"\"\n",
    "    Parameters:\n",
    "    data: The datatset\n",
    "    feature_names: A list of feature names that needs to be imputed\n",
    "    method: The imputation method, i.e mean, median or mode (default = mean)\n",
    "    \"\"\"\n",
    "    \n",
    "    for x in feature_names: #For each feature name\n",
    "        #Perfoming action according to method\n",
    "        if method == 'mean':\n",
    "            #Filling null values for each feature name\n",
    "            data[x].fillna(data[x].mean(), inplace=True)\n",
    "            print(\"Null values imputed with mean.\")\n",
    "        \n",
    "        elif method == 'median':\n",
    "            #Filling null values for each feature name\n",
    "            data[x].fillna(data[x].median(), inplace=True)\n",
    "            print(\"Null values imputed with median.\")\n",
    "\n",
    "            \n",
    "        elif method == 'mode':\n",
    "            #Filling null values for each feature name\n",
    "            data[x].fillna(data[x].mode(), inplace=True)\n",
    "            print(\"Null values imputed with mode.\")\n",
    "\n",
    "            \n",
    "        else:\n",
    "            print(\"Enter a proper method name (mean, median, mode)\")\n",
    "    "
   ]
  },
  {
   "cell_type": "code",
   "execution_count": 7,
   "metadata": {},
   "outputs": [
    {
     "name": "stdout",
     "output_type": "stream",
     "text": [
      "Null values imputed with median.\n"
     ]
    }
   ],
   "source": [
    "feature_names = ['volume(cm3)']\n",
    "numerical_null_impute(data, feature_names, method = 'median')"
   ]
  },
  {
   "cell_type": "markdown",
   "metadata": {},
   "source": [
    "#####    "
   ]
  },
  {
   "cell_type": "markdown",
   "metadata": {},
   "source": [
    "#### Imputing categorical features"
   ]
  },
  {
   "cell_type": "markdown",
   "metadata": {},
   "source": [
    "Null value imputation for Categorical features is a bit tricky. It requires carefull implementation and without proper method might lead to bad results during model training."
   ]
  },
  {
   "cell_type": "code",
   "execution_count": 8,
   "metadata": {},
   "outputs": [],
   "source": [
    "from sklearn.neighbors import KNeighborsClassifier\n",
    "from sklearn.preprocessing import StandardScaler\n",
    "\n",
    "def categorical_null_impute(data, feature_names):\n",
    "    \"\"\"\n",
    "    This function will use KMeans Clustering to impute missing values for categorical data in the dataset.\n",
    "    \n",
    "    Paramters: \n",
    "    data: The dataset\n",
    "    feature_names: A list of feature names that needs to be imputed\n",
    "    \"\"\"\n",
    "    temp_data = data.copy() #Creating a copy of the original data\n",
    "    \n",
    "    for x in feature_names: #For each feature name\n",
    "        \n",
    "        \"\"\"\n",
    "        Seperate into two dataframes, one with null values, one without null values\n",
    "        1. The dataframe without null values will be used for training set,\n",
    "        2. The dataframe wih null values will be used for test dataset\n",
    "        \"\"\"\n",
    "        data_with_null = temp_data[pd.isnull(temp_data[x])]\n",
    "\n",
    "        data_without_null = temp_data[pd.notnull(temp_data[x])]\n",
    "\n",
    "        num_cols = list(temp_data._get_numeric_data().columns.values) #Gathering only numerical columns\n",
    "        \n",
    "        #Train sets\n",
    "        x_train = data_without_null.drop(x, axis = 1)\n",
    "        y_train = data_without_null[x]\n",
    "\n",
    "        #Test sets\n",
    "        x_test = data_with_null.drop(x, axis = 1)\n",
    "        y_test = data_with_null[x]\n",
    "\n",
    "        #We need to extract the numerical columns, and with those columns and their values,\n",
    "        #We can scale those values and perform KNN algorithm\n",
    "        x_train = x_train[num_cols]\n",
    "        x_test = x_test[num_cols]\n",
    "        \n",
    "        #Scaling data \n",
    "        scaler = StandardScaler()\n",
    "        \n",
    "        x_train_scaled = scaler.fit_transform(x_train)\n",
    "        x_test_scaled = scaler.transform(x_test)\n",
    "        \n",
    "        #Implementing K Nearest neighbours algorithm\n",
    "        knn = KNeighborsClassifier()\n",
    "        knn.fit(x_train_scaled, y_train)\n",
    "\n",
    "        pred = knn.predict(x_test_scaled)\n",
    "        \n",
    "        #Assigning the null values with the predicted values\n",
    "        data_with_null[x] = pred\n",
    "\n",
    "        #Finally filling the null values with the predicted values\n",
    "        data[x].fillna(data_with_null[x], inplace= True)\n",
    "        \n",
    "    print(\"Imputed Null values for Categorical features using K Nearest neighbors classifier algorithm\")\n",
    "    print(\"Showing status of dataframe after imputation: \")\n",
    "\n",
    "    print(data.isnull().sum())"
   ]
  },
  {
   "cell_type": "code",
   "execution_count": 9,
   "metadata": {},
   "outputs": [
    {
     "name": "stdout",
     "output_type": "stream",
     "text": [
      "Imputed Null values for Categorical features using K Nearest neighbors classifier algorithm\n",
      "Showing status of dataframe after imputation: \n",
      "make                   0\n",
      "model                  0\n",
      "priceUSD               0\n",
      "year                   0\n",
      "condition              0\n",
      "mileage(kilometers)    0\n",
      "fuel_type              0\n",
      "volume(cm3)            0\n",
      "color                  0\n",
      "transmission           0\n",
      "drive_unit             0\n",
      "segment                0\n",
      "dtype: int64\n"
     ]
    }
   ],
   "source": [
    "feature_names = ['drive_unit', 'segment']\n",
    "categorical_null_impute(data, feature_names)"
   ]
  },
  {
   "cell_type": "markdown",
   "metadata": {},
   "source": [
    "#####   "
   ]
  },
  {
   "cell_type": "markdown",
   "metadata": {},
   "source": [
    "**During Data Analysis, we saw that the Price column, i.e our predictive feature is prone to outliers.**\n",
    "\n",
    "Machine learning algorithms are sensitive to the range and distribution of attribute values. Data outliers can spoil and mislead the training process resulting in longer training times, less accurate models and ultimately poorer results.\n",
    "\n"
   ]
  },
  {
   "cell_type": "code",
   "execution_count": 10,
   "metadata": {},
   "outputs": [
    {
     "data": {
      "image/png": "[encoded data removed]",
      "text/plain": [
       "<Figure size 864x432 with 1 Axes>"
      ]
     },
     "metadata": {},
     "output_type": "display_data"
    }
   ],
   "source": [
    "plt.figure(figsize = (12,6))\n",
    "sns.distplot(data['priceUSD'])\n",
    "plt.show()"
   ]
  },
  {
   "cell_type": "markdown",
   "metadata": {},
   "source": [
    "This influence of outliers can affect further during ML model creation and implementation of algorithms as most algorithms perform poorly in presence of outliers.\n",
    "\n",
    "To handle outliers, we will basically limit the dataset upto a certain quantile range.\n",
    "\n",
    "We will set the quantile value to 0.97, i.e retaining 97% of the data, while removing 3% that contains most of the outliers"
   ]
  },
  {
   "cell_type": "code",
   "execution_count": 11,
   "metadata": {},
   "outputs": [],
   "source": [
    "q = data['priceUSD'].quantile(0.97)\n",
    "\n",
    "data = data[data['priceUSD'] < q]"
   ]
  },
  {
   "cell_type": "code",
   "execution_count": 12,
   "metadata": {},
   "outputs": [
    {
     "data": {
      "image/png": "[encoded data removed]",
      "text/plain": [
       "<Figure size 864x432 with 1 Axes>"
      ]
     },
     "metadata": {},
     "output_type": "display_data"
    }
   ],
   "source": [
    "plt.figure(figsize = (12,6))\n",
    "sns.histplot(data['priceUSD'], kde = True)\n",
    "plt.show()"
   ]
  },
  {
   "cell_type": "markdown",
   "metadata": {},
   "source": [
    "The price distribution looks much better now and most of the information is retained."
   ]
  },
  {
   "cell_type": "markdown",
   "metadata": {},
   "source": [
    "#####   "
   ]
  },
  {
   "cell_type": "markdown",
   "metadata": {},
   "source": [
    "**We also found out that fuel_type and transmission are correlated with each other, that means they have a significant relationship between them that can affect model performance.**\n",
    "\n",
    "A quick research shoes that users generally prefer manual / mechanics transmission type since there are a lot of disadvantages of automatic transmission type cars like expensive parts, expensive repairs etc.\n",
    "\n",
    "Users generally look for fuel type in a car rather than transmission type as most people prefer a manual type.\n",
    "\n",
    "Since, users generally are more focused on fuel_type, we can just drop the transmission column altogether."
   ]
  },
  {
   "cell_type": "code",
   "execution_count": 13,
   "metadata": {},
   "outputs": [],
   "source": [
    "data = data.drop('transmission', axis = 1)"
   ]
  },
  {
   "cell_type": "markdown",
   "metadata": {},
   "source": [
    "The make and model columns together represents a single car model. We can combine these two into a single feature."
   ]
  },
  {
   "cell_type": "code",
   "execution_count": 14,
   "metadata": {},
   "outputs": [],
   "source": [
    "data['brand_and_model'] = data['make'].str.cat(data['model'], sep =\" \")\n",
    "\n",
    "data = data.drop(['make', 'model'], axis = 1)"
   ]
  },
  {
   "cell_type": "markdown",
   "metadata": {},
   "source": [
    "######   "
   ]
  },
  {
   "cell_type": "markdown",
   "metadata": {},
   "source": [
    "### Categorical Encoding"
   ]
  },
  {
   "cell_type": "markdown",
   "metadata": {},
   "source": [
    "in this section, all the categorical features in the dataset will be converted to numerical encodings. This is the final step before model creation."
   ]
  },
  {
   "cell_type": "markdown",
   "metadata": {},
   "source": [
    "We will create a function that will convert categorical features into dummy variables. This method is known as One-Hot Encoding."
   ]
  },
  {
   "cell_type": "code",
   "execution_count": 15,
   "metadata": {},
   "outputs": [],
   "source": [
    "def categorical_encoding(data, features = None):\n",
    "    \"\"\"\n",
    "    The function will convert categorical features to numerical values using One-Hot encoding technique\n",
    "    \n",
    "    Parameters:\n",
    "    data: The dataset\n",
    "    features: A list of the categorical feature names that needs to be one-hot encoded\n",
    "                By default 'None', it will convert all categorical features present in the dataset\n",
    "    Returns:\n",
    "    A dataframe which has been one-hot encoded \n",
    "    \"\"\"\n",
    "    if features == None:\n",
    "        \n",
    "        \"\"\"\n",
    "        1. Gather the numerical features\n",
    "        2. Gather the columns from the dataset except the numerical features\n",
    "        \"\"\"\n",
    "        numeric_cols = list(data._get_numeric_data().columns.values) \n",
    "        categorical_cols = list(data.drop(numeric_cols, axis = 1).columns.values) \n",
    "        \n",
    "        features = categorical_cols\n",
    "        \n",
    "        \n",
    "    for x in features: #For each feature name\n",
    "        \n",
    "        \"\"\"\n",
    "        1. Create dummies of those feature's categories\n",
    "        2. Conatenate them with the original dataset\n",
    "        \"\"\"\n",
    "        \n",
    "        dummies = pd.get_dummies(data[x], drop_first = True)\n",
    "        data = pd.concat([dummies,data], axis = 1)\n",
    "\n",
    "        data = data.drop(x, axis = 1)\n",
    "        \n",
    "    return data"
   ]
  },
  {
   "cell_type": "code",
   "execution_count": 16,
   "metadata": {},
   "outputs": [],
   "source": [
    "data = categorical_encoding(data)"
   ]
  },
  {
   "cell_type": "code",
   "execution_count": 17,
   "metadata": {},
   "outputs": [
    {
     "data": {
      "text/html": [
       "<div>\n",
       "<style scoped>\n",
       "    .dataframe tbody tr th:only-of-type {\n",
       "        vertical-align: middle;\n",
       "    }\n",
       "\n",
       "    .dataframe tbody tr th {\n",
       "        vertical-align: top;\n",
       "    }\n",
       "\n",
       "    .dataframe thead th {\n",
       "        text-align: right;\n",
       "    }\n",
       "</style>\n",
       "<table border=\"1\" class=\"dataframe\">\n",
       "  <thead>\n",
       "    <tr style=\"text-align: right;\">\n",
       "      <th></th>\n",
       "      <th>acura legend</th>\n",
       "      <th>acura mdx</th>\n",
       "      <th>acura rdx</th>\n",
       "      <th>acura rl</th>\n",
       "      <th>acura rsx</th>\n",
       "      <th>acura tl</th>\n",
       "      <th>acura tlx</th>\n",
       "      <th>acura tsx</th>\n",
       "      <th>acura zdx</th>\n",
       "      <th>alfa-romeo 145</th>\n",
       "      <th>...</th>\n",
       "      <th>white</th>\n",
       "      <th>yellow</th>\n",
       "      <th>electrocar</th>\n",
       "      <th>petrol</th>\n",
       "      <th>with damage</th>\n",
       "      <th>with mileage</th>\n",
       "      <th>priceUSD</th>\n",
       "      <th>year</th>\n",
       "      <th>mileage(kilometers)</th>\n",
       "      <th>volume(cm3)</th>\n",
       "    </tr>\n",
       "  </thead>\n",
       "  <tbody>\n",
       "    <tr>\n",
       "      <th>0</th>\n",
       "      <td>0</td>\n",
       "      <td>0</td>\n",
       "      <td>0</td>\n",
       "      <td>0</td>\n",
       "      <td>0</td>\n",
       "      <td>0</td>\n",
       "      <td>0</td>\n",
       "      <td>0</td>\n",
       "      <td>0</td>\n",
       "      <td>0</td>\n",
       "      <td>...</td>\n",
       "      <td>0</td>\n",
       "      <td>0</td>\n",
       "      <td>0</td>\n",
       "      <td>1</td>\n",
       "      <td>0</td>\n",
       "      <td>1</td>\n",
       "      <td>565</td>\n",
       "      <td>1993</td>\n",
       "      <td>960015.0</td>\n",
       "      <td>2000.0</td>\n",
       "    </tr>\n",
       "    <tr>\n",
       "      <th>1</th>\n",
       "      <td>0</td>\n",
       "      <td>0</td>\n",
       "      <td>0</td>\n",
       "      <td>0</td>\n",
       "      <td>0</td>\n",
       "      <td>0</td>\n",
       "      <td>0</td>\n",
       "      <td>0</td>\n",
       "      <td>0</td>\n",
       "      <td>0</td>\n",
       "      <td>...</td>\n",
       "      <td>0</td>\n",
       "      <td>0</td>\n",
       "      <td>0</td>\n",
       "      <td>0</td>\n",
       "      <td>0</td>\n",
       "      <td>1</td>\n",
       "      <td>5550</td>\n",
       "      <td>2008</td>\n",
       "      <td>172000.0</td>\n",
       "      <td>1400.0</td>\n",
       "    </tr>\n",
       "    <tr>\n",
       "      <th>2</th>\n",
       "      <td>0</td>\n",
       "      <td>0</td>\n",
       "      <td>0</td>\n",
       "      <td>0</td>\n",
       "      <td>0</td>\n",
       "      <td>0</td>\n",
       "      <td>0</td>\n",
       "      <td>0</td>\n",
       "      <td>0</td>\n",
       "      <td>0</td>\n",
       "      <td>...</td>\n",
       "      <td>0</td>\n",
       "      <td>0</td>\n",
       "      <td>0</td>\n",
       "      <td>1</td>\n",
       "      <td>0</td>\n",
       "      <td>1</td>\n",
       "      <td>8300</td>\n",
       "      <td>2008</td>\n",
       "      <td>223000.0</td>\n",
       "      <td>2500.0</td>\n",
       "    </tr>\n",
       "    <tr>\n",
       "      <th>3</th>\n",
       "      <td>0</td>\n",
       "      <td>0</td>\n",
       "      <td>0</td>\n",
       "      <td>0</td>\n",
       "      <td>0</td>\n",
       "      <td>0</td>\n",
       "      <td>0</td>\n",
       "      <td>0</td>\n",
       "      <td>0</td>\n",
       "      <td>0</td>\n",
       "      <td>...</td>\n",
       "      <td>0</td>\n",
       "      <td>0</td>\n",
       "      <td>0</td>\n",
       "      <td>1</td>\n",
       "      <td>0</td>\n",
       "      <td>1</td>\n",
       "      <td>3300</td>\n",
       "      <td>2005</td>\n",
       "      <td>140000.0</td>\n",
       "      <td>1200.0</td>\n",
       "    </tr>\n",
       "    <tr>\n",
       "      <th>4</th>\n",
       "      <td>0</td>\n",
       "      <td>0</td>\n",
       "      <td>0</td>\n",
       "      <td>0</td>\n",
       "      <td>0</td>\n",
       "      <td>0</td>\n",
       "      <td>0</td>\n",
       "      <td>0</td>\n",
       "      <td>0</td>\n",
       "      <td>0</td>\n",
       "      <td>...</td>\n",
       "      <td>0</td>\n",
       "      <td>0</td>\n",
       "      <td>0</td>\n",
       "      <td>0</td>\n",
       "      <td>1</td>\n",
       "      <td>0</td>\n",
       "      <td>2450</td>\n",
       "      <td>2002</td>\n",
       "      <td>413000.0</td>\n",
       "      <td>2200.0</td>\n",
       "    </tr>\n",
       "    <tr>\n",
       "      <th>...</th>\n",
       "      <td>...</td>\n",
       "      <td>...</td>\n",
       "      <td>...</td>\n",
       "      <td>...</td>\n",
       "      <td>...</td>\n",
       "      <td>...</td>\n",
       "      <td>...</td>\n",
       "      <td>...</td>\n",
       "      <td>...</td>\n",
       "      <td>...</td>\n",
       "      <td>...</td>\n",
       "      <td>...</td>\n",
       "      <td>...</td>\n",
       "      <td>...</td>\n",
       "      <td>...</td>\n",
       "      <td>...</td>\n",
       "      <td>...</td>\n",
       "      <td>...</td>\n",
       "      <td>...</td>\n",
       "      <td>...</td>\n",
       "      <td>...</td>\n",
       "    </tr>\n",
       "    <tr>\n",
       "      <th>39995</th>\n",
       "      <td>0</td>\n",
       "      <td>0</td>\n",
       "      <td>0</td>\n",
       "      <td>0</td>\n",
       "      <td>0</td>\n",
       "      <td>0</td>\n",
       "      <td>0</td>\n",
       "      <td>0</td>\n",
       "      <td>0</td>\n",
       "      <td>0</td>\n",
       "      <td>...</td>\n",
       "      <td>0</td>\n",
       "      <td>0</td>\n",
       "      <td>0</td>\n",
       "      <td>1</td>\n",
       "      <td>0</td>\n",
       "      <td>1</td>\n",
       "      <td>12500</td>\n",
       "      <td>2008</td>\n",
       "      <td>214000.0</td>\n",
       "      <td>3700.0</td>\n",
       "    </tr>\n",
       "    <tr>\n",
       "      <th>39996</th>\n",
       "      <td>0</td>\n",
       "      <td>0</td>\n",
       "      <td>0</td>\n",
       "      <td>0</td>\n",
       "      <td>0</td>\n",
       "      <td>0</td>\n",
       "      <td>0</td>\n",
       "      <td>0</td>\n",
       "      <td>0</td>\n",
       "      <td>0</td>\n",
       "      <td>...</td>\n",
       "      <td>0</td>\n",
       "      <td>0</td>\n",
       "      <td>0</td>\n",
       "      <td>1</td>\n",
       "      <td>0</td>\n",
       "      <td>1</td>\n",
       "      <td>4754</td>\n",
       "      <td>2001</td>\n",
       "      <td>295000.0</td>\n",
       "      <td>2200.0</td>\n",
       "    </tr>\n",
       "    <tr>\n",
       "      <th>39997</th>\n",
       "      <td>0</td>\n",
       "      <td>0</td>\n",
       "      <td>0</td>\n",
       "      <td>0</td>\n",
       "      <td>0</td>\n",
       "      <td>0</td>\n",
       "      <td>0</td>\n",
       "      <td>0</td>\n",
       "      <td>0</td>\n",
       "      <td>0</td>\n",
       "      <td>...</td>\n",
       "      <td>0</td>\n",
       "      <td>0</td>\n",
       "      <td>0</td>\n",
       "      <td>0</td>\n",
       "      <td>0</td>\n",
       "      <td>1</td>\n",
       "      <td>4000</td>\n",
       "      <td>1999</td>\n",
       "      <td>0.0</td>\n",
       "      <td>2200.0</td>\n",
       "    </tr>\n",
       "    <tr>\n",
       "      <th>39998</th>\n",
       "      <td>0</td>\n",
       "      <td>0</td>\n",
       "      <td>0</td>\n",
       "      <td>0</td>\n",
       "      <td>0</td>\n",
       "      <td>0</td>\n",
       "      <td>0</td>\n",
       "      <td>0</td>\n",
       "      <td>0</td>\n",
       "      <td>0</td>\n",
       "      <td>...</td>\n",
       "      <td>0</td>\n",
       "      <td>0</td>\n",
       "      <td>0</td>\n",
       "      <td>1</td>\n",
       "      <td>0</td>\n",
       "      <td>1</td>\n",
       "      <td>1200</td>\n",
       "      <td>1996</td>\n",
       "      <td>250000.0</td>\n",
       "      <td>1300.0</td>\n",
       "    </tr>\n",
       "    <tr>\n",
       "      <th>39999</th>\n",
       "      <td>0</td>\n",
       "      <td>0</td>\n",
       "      <td>0</td>\n",
       "      <td>0</td>\n",
       "      <td>0</td>\n",
       "      <td>0</td>\n",
       "      <td>0</td>\n",
       "      <td>0</td>\n",
       "      <td>0</td>\n",
       "      <td>0</td>\n",
       "      <td>...</td>\n",
       "      <td>0</td>\n",
       "      <td>0</td>\n",
       "      <td>0</td>\n",
       "      <td>0</td>\n",
       "      <td>0</td>\n",
       "      <td>1</td>\n",
       "      <td>744</td>\n",
       "      <td>1986</td>\n",
       "      <td>272344.0</td>\n",
       "      <td>1997.0</td>\n",
       "    </tr>\n",
       "  </tbody>\n",
       "</table>\n",
       "<p>38800 rows × 998 columns</p>\n",
       "</div>"
      ],
      "text/plain": [
       "       acura legend  acura mdx  acura rdx  acura rl  acura rsx  acura tl  \\\n",
       "0                 0          0          0         0          0         0   \n",
       "1                 0          0          0         0          0         0   \n",
       "2                 0          0          0         0          0         0   \n",
       "3                 0          0          0         0          0         0   \n",
       "4                 0          0          0         0          0         0   \n",
       "...             ...        ...        ...       ...        ...       ...   \n",
       "39995             0          0          0         0          0         0   \n",
       "39996             0          0          0         0          0         0   \n",
       "39997             0          0          0         0          0         0   \n",
       "39998             0          0          0         0          0         0   \n",
       "39999             0          0          0         0          0         0   \n",
       "\n",
       "       acura tlx  acura tsx  acura zdx  alfa-romeo 145  ...  white  yellow  \\\n",
       "0              0          0          0               0  ...      0       0   \n",
       "1              0          0          0               0  ...      0       0   \n",
       "2              0          0          0               0  ...      0       0   \n",
       "3              0          0          0               0  ...      0       0   \n",
       "4              0          0          0               0  ...      0       0   \n",
       "...          ...        ...        ...             ...  ...    ...     ...   \n",
       "39995          0          0          0               0  ...      0       0   \n",
       "39996          0          0          0               0  ...      0       0   \n",
       "39997          0          0          0               0  ...      0       0   \n",
       "39998          0          0          0               0  ...      0       0   \n",
       "39999          0          0          0               0  ...      0       0   \n",
       "\n",
       "       electrocar  petrol  with damage  with mileage  priceUSD  year  \\\n",
       "0               0       1            0             1       565  1993   \n",
       "1               0       0            0             1      5550  2008   \n",
       "2               0       1            0             1      8300  2008   \n",
       "3               0       1            0             1      3300  2005   \n",
       "4               0       0            1             0      2450  2002   \n",
       "...           ...     ...          ...           ...       ...   ...   \n",
       "39995           0       1            0             1     12500  2008   \n",
       "39996           0       1            0             1      4754  2001   \n",
       "39997           0       0            0             1      4000  1999   \n",
       "39998           0       1            0             1      1200  1996   \n",
       "39999           0       0            0             1       744  1986   \n",
       "\n",
       "       mileage(kilometers)  volume(cm3)  \n",
       "0                 960015.0       2000.0  \n",
       "1                 172000.0       1400.0  \n",
       "2                 223000.0       2500.0  \n",
       "3                 140000.0       1200.0  \n",
       "4                 413000.0       2200.0  \n",
       "...                    ...          ...  \n",
       "39995             214000.0       3700.0  \n",
       "39996             295000.0       2200.0  \n",
       "39997                  0.0       2200.0  \n",
       "39998             250000.0       1300.0  \n",
       "39999             272344.0       1997.0  \n",
       "\n",
       "[38800 rows x 998 columns]"
      ]
     },
     "execution_count": 17,
     "metadata": {},
     "output_type": "execute_result"
    }
   ],
   "source": [
    "data"
   ]
  },
  {
   "cell_type": "markdown",
   "metadata": {},
   "source": [
    "##### Finally saving the dataframe into a csv file for final use in model creation and evaluation"
   ]
  },
  {
   "cell_type": "code",
   "execution_count": 18,
   "metadata": {},
   "outputs": [],
   "source": [
    "data.to_csv('used_cars_price_cleaned.csv')"
   ]
  }
 ],
 "metadata": {
  "kernelspec": {
   "display_name": "Python 3",
   "language": "python",
   "name": "python3"
  },
  "language_info": {
   "codemirror_mode": {
    "name": "ipython",
    "version": 3
   },
   "file_extension": ".py",
   "mimetype": "text/x-python",
   "name": "python",
   "nbconvert_exporter": "python",
   "pygments_lexer": "ipython3",
   "version": "3.7.6"
  }
 },
 "nbformat": 4,
 "nbformat_minor": 4
}
