{
 "cells": [
  {
   "cell_type": "markdown",
   "metadata": {},
   "source": [
    "## Importing Libraries"
   ]
  },
  {
   "cell_type": "code",
   "execution_count": 1,
   "metadata": {},
   "outputs": [],
   "source": [
    "import pandas as pd\n",
    "import numpy as np\n",
    "\n",
    "from sklearn.metrics import mean_squared_log_error\n",
    "\n",
    "import warnings\n",
    "warnings.filterwarnings(\"ignore\")"
   ]
  },
  {
   "cell_type": "code",
   "execution_count": 2,
   "metadata": {},
   "outputs": [
    {
     "data": {
      "text/html": [
       "<div>\n",
       "<style scoped>\n",
       "    .dataframe tbody tr th:only-of-type {\n",
       "        vertical-align: middle;\n",
       "    }\n",
       "\n",
       "    .dataframe tbody tr th {\n",
       "        vertical-align: top;\n",
       "    }\n",
       "\n",
       "    .dataframe thead th {\n",
       "        text-align: right;\n",
       "    }\n",
       "</style>\n",
       "<table border=\"1\" class=\"dataframe\">\n",
       "  <thead>\n",
       "    <tr style=\"text-align: right;\">\n",
       "      <th></th>\n",
       "      <th>B</th>\n",
       "      <th>C</th>\n",
       "      <th>D</th>\n",
       "      <th>E</th>\n",
       "      <th>F</th>\n",
       "      <th>J</th>\n",
       "      <th>M</th>\n",
       "      <th>S</th>\n",
       "      <th>front-wheel drive</th>\n",
       "      <th>part-time four-wheel drive</th>\n",
       "      <th>rear drive</th>\n",
       "      <th>electrocar</th>\n",
       "      <th>petrol</th>\n",
       "      <th>with damage</th>\n",
       "      <th>with mileage</th>\n",
       "      <th>make</th>\n",
       "      <th>priceUSD</th>\n",
       "      <th>year</th>\n",
       "      <th>mileage(kilometers)</th>\n",
       "      <th>volume(cm3)</th>\n",
       "    </tr>\n",
       "  </thead>\n",
       "  <tbody>\n",
       "    <tr>\n",
       "      <th>0</th>\n",
       "      <td>0</td>\n",
       "      <td>0</td>\n",
       "      <td>1</td>\n",
       "      <td>0</td>\n",
       "      <td>0</td>\n",
       "      <td>0</td>\n",
       "      <td>0</td>\n",
       "      <td>0</td>\n",
       "      <td>1</td>\n",
       "      <td>0</td>\n",
       "      <td>0</td>\n",
       "      <td>0</td>\n",
       "      <td>1</td>\n",
       "      <td>0</td>\n",
       "      <td>1</td>\n",
       "      <td>31</td>\n",
       "      <td>565</td>\n",
       "      <td>1993</td>\n",
       "      <td>960015.0</td>\n",
       "      <td>2000.0</td>\n",
       "    </tr>\n",
       "    <tr>\n",
       "      <th>1</th>\n",
       "      <td>0</td>\n",
       "      <td>0</td>\n",
       "      <td>0</td>\n",
       "      <td>0</td>\n",
       "      <td>0</td>\n",
       "      <td>0</td>\n",
       "      <td>1</td>\n",
       "      <td>0</td>\n",
       "      <td>1</td>\n",
       "      <td>0</td>\n",
       "      <td>0</td>\n",
       "      <td>0</td>\n",
       "      <td>0</td>\n",
       "      <td>0</td>\n",
       "      <td>1</td>\n",
       "      <td>23</td>\n",
       "      <td>5550</td>\n",
       "      <td>2008</td>\n",
       "      <td>172000.0</td>\n",
       "      <td>1400.0</td>\n",
       "    </tr>\n",
       "    <tr>\n",
       "      <th>2</th>\n",
       "      <td>0</td>\n",
       "      <td>0</td>\n",
       "      <td>1</td>\n",
       "      <td>0</td>\n",
       "      <td>0</td>\n",
       "      <td>0</td>\n",
       "      <td>0</td>\n",
       "      <td>0</td>\n",
       "      <td>1</td>\n",
       "      <td>0</td>\n",
       "      <td>0</td>\n",
       "      <td>0</td>\n",
       "      <td>1</td>\n",
       "      <td>0</td>\n",
       "      <td>1</td>\n",
       "      <td>56</td>\n",
       "      <td>8300</td>\n",
       "      <td>2008</td>\n",
       "      <td>223000.0</td>\n",
       "      <td>2500.0</td>\n",
       "    </tr>\n",
       "    <tr>\n",
       "      <th>3</th>\n",
       "      <td>0</td>\n",
       "      <td>0</td>\n",
       "      <td>0</td>\n",
       "      <td>0</td>\n",
       "      <td>0</td>\n",
       "      <td>0</td>\n",
       "      <td>0</td>\n",
       "      <td>0</td>\n",
       "      <td>1</td>\n",
       "      <td>0</td>\n",
       "      <td>0</td>\n",
       "      <td>0</td>\n",
       "      <td>1</td>\n",
       "      <td>0</td>\n",
       "      <td>1</td>\n",
       "      <td>84</td>\n",
       "      <td>3300</td>\n",
       "      <td>2005</td>\n",
       "      <td>140000.0</td>\n",
       "      <td>1200.0</td>\n",
       "    </tr>\n",
       "    <tr>\n",
       "      <th>4</th>\n",
       "      <td>0</td>\n",
       "      <td>0</td>\n",
       "      <td>1</td>\n",
       "      <td>0</td>\n",
       "      <td>0</td>\n",
       "      <td>0</td>\n",
       "      <td>0</td>\n",
       "      <td>0</td>\n",
       "      <td>1</td>\n",
       "      <td>0</td>\n",
       "      <td>0</td>\n",
       "      <td>0</td>\n",
       "      <td>0</td>\n",
       "      <td>1</td>\n",
       "      <td>0</td>\n",
       "      <td>56</td>\n",
       "      <td>2450</td>\n",
       "      <td>2002</td>\n",
       "      <td>413000.0</td>\n",
       "      <td>2200.0</td>\n",
       "    </tr>\n",
       "  </tbody>\n",
       "</table>\n",
       "</div>"
      ],
      "text/plain": [
       "   B  C  D  E  F  J  M  S  front-wheel drive  part-time four-wheel drive  \\\n",
       "0  0  0  1  0  0  0  0  0                  1                           0   \n",
       "1  0  0  0  0  0  0  1  0                  1                           0   \n",
       "2  0  0  1  0  0  0  0  0                  1                           0   \n",
       "3  0  0  0  0  0  0  0  0                  1                           0   \n",
       "4  0  0  1  0  0  0  0  0                  1                           0   \n",
       "\n",
       "   rear drive  electrocar  petrol  with damage  with mileage  make  priceUSD  \\\n",
       "0           0           0       1            0             1    31       565   \n",
       "1           0           0       0            0             1    23      5550   \n",
       "2           0           0       1            0             1    56      8300   \n",
       "3           0           0       1            0             1    84      3300   \n",
       "4           0           0       0            1             0    56      2450   \n",
       "\n",
       "   year  mileage(kilometers)  volume(cm3)  \n",
       "0  1993             960015.0       2000.0  \n",
       "1  2008             172000.0       1400.0  \n",
       "2  2008             223000.0       2500.0  \n",
       "3  2005             140000.0       1200.0  \n",
       "4  2002             413000.0       2200.0  "
      ]
     },
     "execution_count": 2,
     "metadata": {},
     "output_type": "execute_result"
    }
   ],
   "source": [
    "raw_data = pd.read_csv('used_cars_price_cleaned.csv')\n",
    "data = raw_data.copy()\n",
    "data = data.drop('Unnamed: 0', axis = 1)\n",
    "\n",
    "data.head()"
   ]
  },
  {
   "cell_type": "markdown",
   "metadata": {},
   "source": [
    "## Splitting of dataset"
   ]
  },
  {
   "cell_type": "code",
   "execution_count": 3,
   "metadata": {},
   "outputs": [],
   "source": [
    "from sklearn.model_selection import train_test_split\n",
    "\n",
    "x = data.drop('priceUSD', axis = 1) #Independent variables\n",
    "y = data['priceUSD'] #Dependent variables\n",
    "\n",
    "#Training and test data split\n",
    "x_train, x_test, y_train, y_test = train_test_split(x, y, test_size = 0.1,random_state = 42)\n",
    "\n",
    "#Training and validation data split\n",
    "x_train, x_val, y_train, y_val = train_test_split(x_train, y_train, test_size = 0.1, random_state = 42)"
   ]
  },
  {
   "cell_type": "markdown",
   "metadata": {},
   "source": [
    "## Scaling the data"
   ]
  },
  {
   "cell_type": "code",
   "execution_count": 4,
   "metadata": {},
   "outputs": [],
   "source": [
    "#Since range of values for each feature is different, they need to be scaled with a fixed range\n",
    "#MinMaxScaler scales features within a range of (0,1)\n",
    "\n",
    "from sklearn.preprocessing import MinMaxScaler \n",
    "scaler = MinMaxScaler() \n",
    "  \n",
    "x_train_scaled = scaler.fit_transform(x_train)\n",
    "x_val_scaled = scaler.transform(x_val)\n",
    "x_test_scaled = scaler.transform(x_test) "
   ]
  },
  {
   "cell_type": "markdown",
   "metadata": {},
   "source": [
    "**Since the Price of cars is not normally distributed, skewed to the left, hence it will be best to perfrom a log transformation on price.**"
   ]
  },
  {
   "cell_type": "code",
   "execution_count": 5,
   "metadata": {},
   "outputs": [],
   "source": [
    "y_train_log = np.log(y_train)\n",
    "\n",
    "y_val_log = np.log(y_val)\n",
    "\n",
    "y_test_log = np.log(y_test)"
   ]
  },
  {
   "cell_type": "markdown",
   "metadata": {},
   "source": [
    "######     "
   ]
  },
  {
   "cell_type": "markdown",
   "metadata": {},
   "source": [
    "## Model creation, comparison and Evaluation"
   ]
  },
  {
   "cell_type": "markdown",
   "metadata": {},
   "source": [
    "In this phase, we will use different Machine Learning algorithms to create models and compare the performance of those models.\n",
    "\n",
    "We will use the Root Mean Squared Log Error(RMSLE) as our evaluation metric. The lower the RMSLE score, the better is the model."
   ]
  },
  {
   "cell_type": "markdown",
   "metadata": {},
   "source": [
    "The different ML algorithms to be implemented:\n",
    "\n",
    "    1. Linear Regression\n",
    "\n",
    "    2. Random Forest \n",
    "\n",
    "    3. Support Vector Machine\n",
    "    \n",
    "    4. K Nearest Neighbours\n",
    "    \n",
    "    5. XGBoost\n",
    "    \n",
    "    6. LightGBM\n",
    "    \n",
    "    7. CatBoost"
   ]
  },
  {
   "cell_type": "markdown",
   "metadata": {},
   "source": [
    "At first, let's create a DataFrame that will store the validation results of all the models so that it can be compared later on."
   ]
  },
  {
   "cell_type": "code",
   "execution_count": 6,
   "metadata": {},
   "outputs": [],
   "source": [
    "Results = pd.DataFrame(columns = ['Model', 'Validation Score(Before tuning)', 'Accuracy(Before tuning)', 'Validation Score(After tuning)', 'Accuracy(After tuning)' ])"
   ]
  },
  {
   "cell_type": "markdown",
   "metadata": {},
   "source": [
    "#### 1. Linear Regression"
   ]
  },
  {
   "cell_type": "code",
   "execution_count": 7,
   "metadata": {},
   "outputs": [
    {
     "name": "stdout",
     "output_type": "stream",
     "text": [
      "RMSLE score:  0.058461182269852544\n",
      "Accuracy score:  77.317\n"
     ]
    }
   ],
   "source": [
    "from sklearn.linear_model import LinearRegression\n",
    "\n",
    "lr =  LinearRegression()\n",
    "\n",
    "lr.fit(x_train_scaled, y_train_log) #Fitting or training the data\n",
    "\n",
    "y_val_pred_log = lr.predict(x_val_scaled)#Predicting on validation set\n",
    "\n",
    "rmsle = np.sqrt(mean_squared_log_error(y_val_log, y_val_pred_log)) #Evaluating model rmse score by comparing actual and predicted results\n",
    "\n",
    "score = ((lr.score(x_val_scaled,y_val_log))*100).round(3)\n",
    "\n",
    "print(\"RMSLE score: \", rmsle)\n",
    "\n",
    "print(\"Accuracy score: \", score)"
   ]
  },
  {
   "cell_type": "code",
   "execution_count": 8,
   "metadata": {},
   "outputs": [
    {
     "data": {
      "text/html": [
       "<div>\n",
       "<style scoped>\n",
       "    .dataframe tbody tr th:only-of-type {\n",
       "        vertical-align: middle;\n",
       "    }\n",
       "\n",
       "    .dataframe tbody tr th {\n",
       "        vertical-align: top;\n",
       "    }\n",
       "\n",
       "    .dataframe thead th {\n",
       "        text-align: right;\n",
       "    }\n",
       "</style>\n",
       "<table border=\"1\" class=\"dataframe\">\n",
       "  <thead>\n",
       "    <tr style=\"text-align: right;\">\n",
       "      <th></th>\n",
       "      <th>Model</th>\n",
       "      <th>Validation Score(Before tuning)</th>\n",
       "      <th>Accuracy(Before tuning)</th>\n",
       "      <th>Validation Score(After tuning)</th>\n",
       "      <th>Accuracy(After tuning)</th>\n",
       "    </tr>\n",
       "  </thead>\n",
       "  <tbody>\n",
       "    <tr>\n",
       "      <th>0</th>\n",
       "      <td>Linear Regression</td>\n",
       "      <td>0.058461</td>\n",
       "      <td>77.317</td>\n",
       "      <td>NaN</td>\n",
       "      <td>NaN</td>\n",
       "    </tr>\n",
       "  </tbody>\n",
       "</table>\n",
       "</div>"
      ],
      "text/plain": [
       "               Model  Validation Score(Before tuning)  \\\n",
       "0  Linear Regression                         0.058461   \n",
       "\n",
       "   Accuracy(Before tuning)  Validation Score(After tuning)  \\\n",
       "0                   77.317                             NaN   \n",
       "\n",
       "   Accuracy(After tuning)  \n",
       "0                     NaN  "
      ]
     },
     "execution_count": 8,
     "metadata": {},
     "output_type": "execute_result"
    }
   ],
   "source": [
    "Results = Results.append({'Model' : 'Linear Regression', 'Validation Score(Before tuning)': rmsle, \n",
    "                          'Accuracy(Before tuning)': score }, ignore_index = True)\n",
    "Results"
   ]
  },
  {
   "cell_type": "markdown",
   "metadata": {},
   "source": [
    "#####   "
   ]
  },
  {
   "cell_type": "markdown",
   "metadata": {},
   "source": [
    "#### 2. Random Forest"
   ]
  },
  {
   "cell_type": "code",
   "execution_count": 9,
   "metadata": {},
   "outputs": [
    {
     "name": "stdout",
     "output_type": "stream",
     "text": [
      "RMSLE score:  0.03782334163298192\n",
      "Accuracy score:  89.921\n"
     ]
    }
   ],
   "source": [
    "from sklearn.ensemble import RandomForestRegressor\n",
    "\n",
    "rf = RandomForestRegressor()\n",
    "\n",
    "rf.fit(x_train_scaled, y_train_log) #Fitting or training the data\n",
    "\n",
    "y_val_pred_log = rf.predict(x_val_scaled)#Predicting on validation set\n",
    "\n",
    "rmsle = np.sqrt(mean_squared_log_error(y_val_log, y_val_pred_log)) #Evaluating model rmse score by comparing actual and predicted results\n",
    "score = ((rf.score(x_val_scaled,y_val_log))*100).round(3)\n",
    "\n",
    "print(\"RMSLE score: \", rmsle)\n",
    "\n",
    "print(\"Accuracy score: \", score)"
   ]
  },
  {
   "cell_type": "code",
   "execution_count": 10,
   "metadata": {},
   "outputs": [
    {
     "data": {
      "text/html": [
       "<div>\n",
       "<style scoped>\n",
       "    .dataframe tbody tr th:only-of-type {\n",
       "        vertical-align: middle;\n",
       "    }\n",
       "\n",
       "    .dataframe tbody tr th {\n",
       "        vertical-align: top;\n",
       "    }\n",
       "\n",
       "    .dataframe thead th {\n",
       "        text-align: right;\n",
       "    }\n",
       "</style>\n",
       "<table border=\"1\" class=\"dataframe\">\n",
       "  <thead>\n",
       "    <tr style=\"text-align: right;\">\n",
       "      <th></th>\n",
       "      <th>Model</th>\n",
       "      <th>Validation Score(Before tuning)</th>\n",
       "      <th>Accuracy(Before tuning)</th>\n",
       "      <th>Validation Score(After tuning)</th>\n",
       "      <th>Accuracy(After tuning)</th>\n",
       "    </tr>\n",
       "  </thead>\n",
       "  <tbody>\n",
       "    <tr>\n",
       "      <th>0</th>\n",
       "      <td>Linear Regression</td>\n",
       "      <td>0.058461</td>\n",
       "      <td>77.317</td>\n",
       "      <td>NaN</td>\n",
       "      <td>NaN</td>\n",
       "    </tr>\n",
       "    <tr>\n",
       "      <th>1</th>\n",
       "      <td>Random Forest</td>\n",
       "      <td>0.037823</td>\n",
       "      <td>89.921</td>\n",
       "      <td>NaN</td>\n",
       "      <td>NaN</td>\n",
       "    </tr>\n",
       "  </tbody>\n",
       "</table>\n",
       "</div>"
      ],
      "text/plain": [
       "               Model  Validation Score(Before tuning)  \\\n",
       "0  Linear Regression                         0.058461   \n",
       "1      Random Forest                         0.037823   \n",
       "\n",
       "   Accuracy(Before tuning)  Validation Score(After tuning)  \\\n",
       "0                   77.317                             NaN   \n",
       "1                   89.921                             NaN   \n",
       "\n",
       "   Accuracy(After tuning)  \n",
       "0                     NaN  \n",
       "1                     NaN  "
      ]
     },
     "execution_count": 10,
     "metadata": {},
     "output_type": "execute_result"
    }
   ],
   "source": [
    "Results = Results.append({'Model' : 'Random Forest', 'Validation Score(Before tuning)': rmsle,\n",
    "                         'Accuracy(Before tuning)': score}, ignore_index = True)\n",
    "Results"
   ]
  },
  {
   "cell_type": "markdown",
   "metadata": {},
   "source": [
    "#####  "
   ]
  },
  {
   "cell_type": "markdown",
   "metadata": {},
   "source": [
    "#### 3. K Nearest Neighbours"
   ]
  },
  {
   "cell_type": "code",
   "execution_count": 11,
   "metadata": {},
   "outputs": [
    {
     "name": "stdout",
     "output_type": "stream",
     "text": [
      "RMSLE score:  0.03823251764652535\n",
      "Accuracy score:  89.49\n"
     ]
    }
   ],
   "source": [
    "from sklearn.neighbors import KNeighborsRegressor\n",
    "\n",
    "knn = KNeighborsRegressor()\n",
    "\n",
    "knn.fit(x_train_scaled, y_train_log) #Fitting or training the data\n",
    "\n",
    "y_val_pred_log = knn.predict(x_val_scaled)#Predicting on validation set\n",
    "\n",
    "rmsle = np.sqrt(mean_squared_log_error(y_val_log, y_val_pred_log)) #Evaluating model rmse score by comparing actual and predicted results\n",
    "score = ((knn.score(x_val_scaled,y_val_log))*100).round(3)\n",
    "\n",
    "print(\"RMSLE score: \", rmsle)\n",
    "\n",
    "print(\"Accuracy score: \", score)"
   ]
  },
  {
   "cell_type": "code",
   "execution_count": 12,
   "metadata": {},
   "outputs": [
    {
     "data": {
      "text/html": [
       "<div>\n",
       "<style scoped>\n",
       "    .dataframe tbody tr th:only-of-type {\n",
       "        vertical-align: middle;\n",
       "    }\n",
       "\n",
       "    .dataframe tbody tr th {\n",
       "        vertical-align: top;\n",
       "    }\n",
       "\n",
       "    .dataframe thead th {\n",
       "        text-align: right;\n",
       "    }\n",
       "</style>\n",
       "<table border=\"1\" class=\"dataframe\">\n",
       "  <thead>\n",
       "    <tr style=\"text-align: right;\">\n",
       "      <th></th>\n",
       "      <th>Model</th>\n",
       "      <th>Validation Score(Before tuning)</th>\n",
       "      <th>Accuracy(Before tuning)</th>\n",
       "      <th>Validation Score(After tuning)</th>\n",
       "      <th>Accuracy(After tuning)</th>\n",
       "    </tr>\n",
       "  </thead>\n",
       "  <tbody>\n",
       "    <tr>\n",
       "      <th>0</th>\n",
       "      <td>Linear Regression</td>\n",
       "      <td>0.058461</td>\n",
       "      <td>77.317</td>\n",
       "      <td>NaN</td>\n",
       "      <td>NaN</td>\n",
       "    </tr>\n",
       "    <tr>\n",
       "      <th>1</th>\n",
       "      <td>Random Forest</td>\n",
       "      <td>0.037823</td>\n",
       "      <td>89.921</td>\n",
       "      <td>NaN</td>\n",
       "      <td>NaN</td>\n",
       "    </tr>\n",
       "    <tr>\n",
       "      <th>2</th>\n",
       "      <td>K Nearest Neighbours</td>\n",
       "      <td>0.038233</td>\n",
       "      <td>89.490</td>\n",
       "      <td>NaN</td>\n",
       "      <td>NaN</td>\n",
       "    </tr>\n",
       "  </tbody>\n",
       "</table>\n",
       "</div>"
      ],
      "text/plain": [
       "                  Model  Validation Score(Before tuning)  \\\n",
       "0     Linear Regression                         0.058461   \n",
       "1         Random Forest                         0.037823   \n",
       "2  K Nearest Neighbours                         0.038233   \n",
       "\n",
       "   Accuracy(Before tuning)  Validation Score(After tuning)  \\\n",
       "0                   77.317                             NaN   \n",
       "1                   89.921                             NaN   \n",
       "2                   89.490                             NaN   \n",
       "\n",
       "   Accuracy(After tuning)  \n",
       "0                     NaN  \n",
       "1                     NaN  \n",
       "2                     NaN  "
      ]
     },
     "execution_count": 12,
     "metadata": {},
     "output_type": "execute_result"
    }
   ],
   "source": [
    "Results = Results.append({'Model' : 'K Nearest Neighbours', 'Validation Score(Before tuning)': rmsle,\n",
    "                         'Accuracy(Before tuning)': score}, ignore_index = True)\n",
    "Results"
   ]
  },
  {
   "cell_type": "markdown",
   "metadata": {},
   "source": [
    "######   "
   ]
  },
  {
   "cell_type": "markdown",
   "metadata": {},
   "source": [
    "#### 4. Support Vector machine"
   ]
  },
  {
   "cell_type": "code",
   "execution_count": 13,
   "metadata": {},
   "outputs": [
    {
     "name": "stdout",
     "output_type": "stream",
     "text": [
      "RMSLE score:  0.047935884858714424\n",
      "Accuracy score:  83.838\n"
     ]
    }
   ],
   "source": [
    "from sklearn.svm import SVR\n",
    "\n",
    "svr = SVR()\n",
    "\n",
    "svr.fit(x_train_scaled, y_train_log) #Fitting or training the data\n",
    "\n",
    "y_val_pred_log = svr.predict(x_val_scaled)#Predicting on validation set\n",
    "\n",
    "rmsle = np.sqrt(mean_squared_log_error(y_val_log, y_val_pred_log)) #Evaluating model rmse score by comparing actual and predicted results\n",
    "score = ((svr.score(x_val_scaled,y_val_log))*100).round(3)\n",
    "\n",
    "print(\"RMSLE score: \", rmsle)\n",
    "\n",
    "print(\"Accuracy score: \", score)"
   ]
  },
  {
   "cell_type": "code",
   "execution_count": 14,
   "metadata": {
    "scrolled": true
   },
   "outputs": [
    {
     "data": {
      "text/html": [
       "<div>\n",
       "<style scoped>\n",
       "    .dataframe tbody tr th:only-of-type {\n",
       "        vertical-align: middle;\n",
       "    }\n",
       "\n",
       "    .dataframe tbody tr th {\n",
       "        vertical-align: top;\n",
       "    }\n",
       "\n",
       "    .dataframe thead th {\n",
       "        text-align: right;\n",
       "    }\n",
       "</style>\n",
       "<table border=\"1\" class=\"dataframe\">\n",
       "  <thead>\n",
       "    <tr style=\"text-align: right;\">\n",
       "      <th></th>\n",
       "      <th>Model</th>\n",
       "      <th>Validation Score(Before tuning)</th>\n",
       "      <th>Accuracy(Before tuning)</th>\n",
       "      <th>Validation Score(After tuning)</th>\n",
       "      <th>Accuracy(After tuning)</th>\n",
       "    </tr>\n",
       "  </thead>\n",
       "  <tbody>\n",
       "    <tr>\n",
       "      <th>0</th>\n",
       "      <td>Linear Regression</td>\n",
       "      <td>0.058461</td>\n",
       "      <td>77.317</td>\n",
       "      <td>NaN</td>\n",
       "      <td>NaN</td>\n",
       "    </tr>\n",
       "    <tr>\n",
       "      <th>1</th>\n",
       "      <td>Random Forest</td>\n",
       "      <td>0.037823</td>\n",
       "      <td>89.921</td>\n",
       "      <td>NaN</td>\n",
       "      <td>NaN</td>\n",
       "    </tr>\n",
       "    <tr>\n",
       "      <th>2</th>\n",
       "      <td>K Nearest Neighbours</td>\n",
       "      <td>0.038233</td>\n",
       "      <td>89.490</td>\n",
       "      <td>NaN</td>\n",
       "      <td>NaN</td>\n",
       "    </tr>\n",
       "    <tr>\n",
       "      <th>3</th>\n",
       "      <td>Support Vector Machine</td>\n",
       "      <td>0.047936</td>\n",
       "      <td>83.838</td>\n",
       "      <td>NaN</td>\n",
       "      <td>NaN</td>\n",
       "    </tr>\n",
       "  </tbody>\n",
       "</table>\n",
       "</div>"
      ],
      "text/plain": [
       "                    Model  Validation Score(Before tuning)  \\\n",
       "0       Linear Regression                         0.058461   \n",
       "1           Random Forest                         0.037823   \n",
       "2    K Nearest Neighbours                         0.038233   \n",
       "3  Support Vector Machine                         0.047936   \n",
       "\n",
       "   Accuracy(Before tuning)  Validation Score(After tuning)  \\\n",
       "0                   77.317                             NaN   \n",
       "1                   89.921                             NaN   \n",
       "2                   89.490                             NaN   \n",
       "3                   83.838                             NaN   \n",
       "\n",
       "   Accuracy(After tuning)  \n",
       "0                     NaN  \n",
       "1                     NaN  \n",
       "2                     NaN  \n",
       "3                     NaN  "
      ]
     },
     "execution_count": 14,
     "metadata": {},
     "output_type": "execute_result"
    }
   ],
   "source": [
    "Results = Results.append({'Model' : 'Support Vector Machine', 'Validation Score(Before tuning)': rmsle,\n",
    "                         'Accuracy(Before tuning)': score}, ignore_index = True)\n",
    "Results"
   ]
  },
  {
   "cell_type": "markdown",
   "metadata": {},
   "source": [
    "###### "
   ]
  },
  {
   "cell_type": "markdown",
   "metadata": {},
   "source": [
    "#### 5. XGBoost"
   ]
  },
  {
   "cell_type": "code",
   "execution_count": 15,
   "metadata": {},
   "outputs": [
    {
     "name": "stdout",
     "output_type": "stream",
     "text": [
      "[03:03:46] WARNING: src/objective/regression_obj.cu:152: reg:linear is now deprecated in favor of reg:squarederror.\n",
      "RMSLE score:  0.04095935448169442\n",
      "Accuracy score:  87.925\n"
     ]
    }
   ],
   "source": [
    "from xgboost import XGBRegressor\n",
    "\n",
    "xgb = XGBRegressor()\n",
    "\n",
    "xgb.fit(x_train_scaled, y_train_log) #Fitting or training the data\n",
    "\n",
    "y_val_pred_log = xgb.predict(x_val_scaled)#Predicting on validation set\n",
    "\n",
    "rmsle = np.sqrt(mean_squared_log_error(y_val_log, y_val_pred_log)) #Evaluating model rmse score by comparing actual and predicted results\n",
    "score = ((xgb.score(x_val_scaled,y_val_log))*100).round(3)\n",
    "\n",
    "print(\"RMSLE score: \", rmsle)\n",
    "\n",
    "print(\"Accuracy score: \", score)"
   ]
  },
  {
   "cell_type": "code",
   "execution_count": 16,
   "metadata": {},
   "outputs": [
    {
     "data": {
      "text/html": [
       "<div>\n",
       "<style scoped>\n",
       "    .dataframe tbody tr th:only-of-type {\n",
       "        vertical-align: middle;\n",
       "    }\n",
       "\n",
       "    .dataframe tbody tr th {\n",
       "        vertical-align: top;\n",
       "    }\n",
       "\n",
       "    .dataframe thead th {\n",
       "        text-align: right;\n",
       "    }\n",
       "</style>\n",
       "<table border=\"1\" class=\"dataframe\">\n",
       "  <thead>\n",
       "    <tr style=\"text-align: right;\">\n",
       "      <th></th>\n",
       "      <th>Model</th>\n",
       "      <th>Validation Score(Before tuning)</th>\n",
       "      <th>Accuracy(Before tuning)</th>\n",
       "      <th>Validation Score(After tuning)</th>\n",
       "      <th>Accuracy(After tuning)</th>\n",
       "    </tr>\n",
       "  </thead>\n",
       "  <tbody>\n",
       "    <tr>\n",
       "      <th>0</th>\n",
       "      <td>Linear Regression</td>\n",
       "      <td>0.058461</td>\n",
       "      <td>77.317</td>\n",
       "      <td>NaN</td>\n",
       "      <td>NaN</td>\n",
       "    </tr>\n",
       "    <tr>\n",
       "      <th>1</th>\n",
       "      <td>Random Forest</td>\n",
       "      <td>0.037823</td>\n",
       "      <td>89.921</td>\n",
       "      <td>NaN</td>\n",
       "      <td>NaN</td>\n",
       "    </tr>\n",
       "    <tr>\n",
       "      <th>2</th>\n",
       "      <td>K Nearest Neighbours</td>\n",
       "      <td>0.038233</td>\n",
       "      <td>89.490</td>\n",
       "      <td>NaN</td>\n",
       "      <td>NaN</td>\n",
       "    </tr>\n",
       "    <tr>\n",
       "      <th>3</th>\n",
       "      <td>Support Vector Machine</td>\n",
       "      <td>0.047936</td>\n",
       "      <td>83.838</td>\n",
       "      <td>NaN</td>\n",
       "      <td>NaN</td>\n",
       "    </tr>\n",
       "    <tr>\n",
       "      <th>4</th>\n",
       "      <td>XGBoost</td>\n",
       "      <td>0.040959</td>\n",
       "      <td>87.925</td>\n",
       "      <td>NaN</td>\n",
       "      <td>NaN</td>\n",
       "    </tr>\n",
       "  </tbody>\n",
       "</table>\n",
       "</div>"
      ],
      "text/plain": [
       "                    Model  Validation Score(Before tuning)  \\\n",
       "0       Linear Regression                         0.058461   \n",
       "1           Random Forest                         0.037823   \n",
       "2    K Nearest Neighbours                         0.038233   \n",
       "3  Support Vector Machine                         0.047936   \n",
       "4                 XGBoost                         0.040959   \n",
       "\n",
       "   Accuracy(Before tuning)  Validation Score(After tuning)  \\\n",
       "0                   77.317                             NaN   \n",
       "1                   89.921                             NaN   \n",
       "2                   89.490                             NaN   \n",
       "3                   83.838                             NaN   \n",
       "4                   87.925                             NaN   \n",
       "\n",
       "   Accuracy(After tuning)  \n",
       "0                     NaN  \n",
       "1                     NaN  \n",
       "2                     NaN  \n",
       "3                     NaN  \n",
       "4                     NaN  "
      ]
     },
     "execution_count": 16,
     "metadata": {},
     "output_type": "execute_result"
    }
   ],
   "source": [
    "Results = Results.append({'Model' : 'XGBoost', 'Validation Score(Before tuning)': rmsle,\n",
    "                         'Accuracy(Before tuning)': score}, ignore_index = True)\n",
    "Results"
   ]
  },
  {
   "cell_type": "markdown",
   "metadata": {},
   "source": [
    "#####    "
   ]
  },
  {
   "cell_type": "markdown",
   "metadata": {},
   "source": [
    "#### 6. Light GBM (LGBM)"
   ]
  },
  {
   "cell_type": "code",
   "execution_count": 17,
   "metadata": {},
   "outputs": [
    {
     "name": "stdout",
     "output_type": "stream",
     "text": [
      "RMSLE score:  0.036177417400881436\n",
      "Accuracy score:  90.781\n"
     ]
    }
   ],
   "source": [
    "from lightgbm import LGBMRegressor\n",
    "\n",
    "lgbr = LGBMRegressor()\n",
    "\n",
    "lgbr.fit(x_train_scaled, y_train_log) #Fitting or training the data\n",
    " \n",
    "y_val_pred_log = lgbr.predict(x_val_scaled)#Predicting on validation set\n",
    "\n",
    "rmsle = np.sqrt(mean_squared_log_error(y_val_log, y_val_pred_log)) #Evaluating model rmse score by comparing actual and predicted results\n",
    "score = ((lgbr.score(x_val_scaled,y_val_log))*100).round(3)\n",
    "\n",
    "print(\"RMSLE score: \", rmsle)\n",
    "\n",
    "print(\"Accuracy score: \", score)"
   ]
  },
  {
   "cell_type": "code",
   "execution_count": 18,
   "metadata": {},
   "outputs": [
    {
     "data": {
      "text/html": [
       "<div>\n",
       "<style scoped>\n",
       "    .dataframe tbody tr th:only-of-type {\n",
       "        vertical-align: middle;\n",
       "    }\n",
       "\n",
       "    .dataframe tbody tr th {\n",
       "        vertical-align: top;\n",
       "    }\n",
       "\n",
       "    .dataframe thead th {\n",
       "        text-align: right;\n",
       "    }\n",
       "</style>\n",
       "<table border=\"1\" class=\"dataframe\">\n",
       "  <thead>\n",
       "    <tr style=\"text-align: right;\">\n",
       "      <th></th>\n",
       "      <th>Model</th>\n",
       "      <th>Validation Score(Before tuning)</th>\n",
       "      <th>Accuracy(Before tuning)</th>\n",
       "      <th>Validation Score(After tuning)</th>\n",
       "      <th>Accuracy(After tuning)</th>\n",
       "    </tr>\n",
       "  </thead>\n",
       "  <tbody>\n",
       "    <tr>\n",
       "      <th>0</th>\n",
       "      <td>Linear Regression</td>\n",
       "      <td>0.058461</td>\n",
       "      <td>77.317</td>\n",
       "      <td>NaN</td>\n",
       "      <td>NaN</td>\n",
       "    </tr>\n",
       "    <tr>\n",
       "      <th>1</th>\n",
       "      <td>Random Forest</td>\n",
       "      <td>0.037823</td>\n",
       "      <td>89.921</td>\n",
       "      <td>NaN</td>\n",
       "      <td>NaN</td>\n",
       "    </tr>\n",
       "    <tr>\n",
       "      <th>2</th>\n",
       "      <td>K Nearest Neighbours</td>\n",
       "      <td>0.038233</td>\n",
       "      <td>89.490</td>\n",
       "      <td>NaN</td>\n",
       "      <td>NaN</td>\n",
       "    </tr>\n",
       "    <tr>\n",
       "      <th>3</th>\n",
       "      <td>Support Vector Machine</td>\n",
       "      <td>0.047936</td>\n",
       "      <td>83.838</td>\n",
       "      <td>NaN</td>\n",
       "      <td>NaN</td>\n",
       "    </tr>\n",
       "    <tr>\n",
       "      <th>4</th>\n",
       "      <td>XGBoost</td>\n",
       "      <td>0.040959</td>\n",
       "      <td>87.925</td>\n",
       "      <td>NaN</td>\n",
       "      <td>NaN</td>\n",
       "    </tr>\n",
       "    <tr>\n",
       "      <th>5</th>\n",
       "      <td>Light GBM</td>\n",
       "      <td>0.036177</td>\n",
       "      <td>90.781</td>\n",
       "      <td>NaN</td>\n",
       "      <td>NaN</td>\n",
       "    </tr>\n",
       "  </tbody>\n",
       "</table>\n",
       "</div>"
      ],
      "text/plain": [
       "                    Model  Validation Score(Before tuning)  \\\n",
       "0       Linear Regression                         0.058461   \n",
       "1           Random Forest                         0.037823   \n",
       "2    K Nearest Neighbours                         0.038233   \n",
       "3  Support Vector Machine                         0.047936   \n",
       "4                 XGBoost                         0.040959   \n",
       "5               Light GBM                         0.036177   \n",
       "\n",
       "   Accuracy(Before tuning)  Validation Score(After tuning)  \\\n",
       "0                   77.317                             NaN   \n",
       "1                   89.921                             NaN   \n",
       "2                   89.490                             NaN   \n",
       "3                   83.838                             NaN   \n",
       "4                   87.925                             NaN   \n",
       "5                   90.781                             NaN   \n",
       "\n",
       "   Accuracy(After tuning)  \n",
       "0                     NaN  \n",
       "1                     NaN  \n",
       "2                     NaN  \n",
       "3                     NaN  \n",
       "4                     NaN  \n",
       "5                     NaN  "
      ]
     },
     "execution_count": 18,
     "metadata": {},
     "output_type": "execute_result"
    }
   ],
   "source": [
    "Results = Results.append({'Model' : 'Light GBM', 'Validation Score(Before tuning)': rmsle,\n",
    "                         'Accuracy(Before tuning)': score}, ignore_index = True)\n",
    "Results"
   ]
  },
  {
   "cell_type": "markdown",
   "metadata": {},
   "source": [
    "#####   "
   ]
  },
  {
   "cell_type": "markdown",
   "metadata": {},
   "source": [
    "#### 7. CatBoost"
   ]
  },
  {
   "cell_type": "code",
   "execution_count": 19,
   "metadata": {},
   "outputs": [
    {
     "name": "stdout",
     "output_type": "stream",
     "text": [
      "Learning rate set to 0.07236\n",
      "0:\tlearn: 0.9634298\ttotal: 154ms\tremaining: 2m 33s\n",
      "200:\tlearn: 0.3110477\ttotal: 1.66s\tremaining: 6.59s\n",
      "400:\tlearn: 0.2879327\ttotal: 3.26s\tremaining: 4.87s\n",
      "600:\tlearn: 0.2771087\ttotal: 4.8s\tremaining: 3.18s\n",
      "800:\tlearn: 0.2698537\ttotal: 6.25s\tremaining: 1.55s\n",
      "999:\tlearn: 0.2637301\ttotal: 7.77s\tremaining: 0us\n",
      "RMSLE score:  0.03534135196770207\n",
      "Accuracy score:  91.283\n"
     ]
    }
   ],
   "source": [
    "from catboost import CatBoostRegressor\n",
    "\n",
    "cb = CatBoostRegressor()\n",
    "\n",
    "cb.fit(x_train_scaled, y_train_log, verbose = 200)\n",
    "\n",
    "y_val_pred_log = cb.predict(x_val_scaled)\n",
    "\n",
    "rmsle = np.sqrt(mean_squared_log_error(y_val_log, y_val_pred_log))\n",
    "score = ((cb.score(x_val_scaled,y_val_log))*100).round(3)\n",
    "\n",
    "print(\"RMSLE score: \", rmsle)\n",
    "\n",
    "print(\"Accuracy score: \", score)"
   ]
  },
  {
   "cell_type": "code",
   "execution_count": 20,
   "metadata": {},
   "outputs": [
    {
     "data": {
      "text/html": [
       "<div>\n",
       "<style scoped>\n",
       "    .dataframe tbody tr th:only-of-type {\n",
       "        vertical-align: middle;\n",
       "    }\n",
       "\n",
       "    .dataframe tbody tr th {\n",
       "        vertical-align: top;\n",
       "    }\n",
       "\n",
       "    .dataframe thead th {\n",
       "        text-align: right;\n",
       "    }\n",
       "</style>\n",
       "<table border=\"1\" class=\"dataframe\">\n",
       "  <thead>\n",
       "    <tr style=\"text-align: right;\">\n",
       "      <th></th>\n",
       "      <th>Model</th>\n",
       "      <th>Validation Score(Before tuning)</th>\n",
       "      <th>Accuracy(Before tuning)</th>\n",
       "      <th>Validation Score(After tuning)</th>\n",
       "      <th>Accuracy(After tuning)</th>\n",
       "    </tr>\n",
       "  </thead>\n",
       "  <tbody>\n",
       "    <tr>\n",
       "      <th>0</th>\n",
       "      <td>Linear Regression</td>\n",
       "      <td>0.058461</td>\n",
       "      <td>77.317</td>\n",
       "      <td>NaN</td>\n",
       "      <td>NaN</td>\n",
       "    </tr>\n",
       "    <tr>\n",
       "      <th>1</th>\n",
       "      <td>Random Forest</td>\n",
       "      <td>0.037823</td>\n",
       "      <td>89.921</td>\n",
       "      <td>NaN</td>\n",
       "      <td>NaN</td>\n",
       "    </tr>\n",
       "    <tr>\n",
       "      <th>2</th>\n",
       "      <td>K Nearest Neighbours</td>\n",
       "      <td>0.038233</td>\n",
       "      <td>89.490</td>\n",
       "      <td>NaN</td>\n",
       "      <td>NaN</td>\n",
       "    </tr>\n",
       "    <tr>\n",
       "      <th>3</th>\n",
       "      <td>Support Vector Machine</td>\n",
       "      <td>0.047936</td>\n",
       "      <td>83.838</td>\n",
       "      <td>NaN</td>\n",
       "      <td>NaN</td>\n",
       "    </tr>\n",
       "    <tr>\n",
       "      <th>4</th>\n",
       "      <td>XGBoost</td>\n",
       "      <td>0.040959</td>\n",
       "      <td>87.925</td>\n",
       "      <td>NaN</td>\n",
       "      <td>NaN</td>\n",
       "    </tr>\n",
       "    <tr>\n",
       "      <th>5</th>\n",
       "      <td>Light GBM</td>\n",
       "      <td>0.036177</td>\n",
       "      <td>90.781</td>\n",
       "      <td>NaN</td>\n",
       "      <td>NaN</td>\n",
       "    </tr>\n",
       "    <tr>\n",
       "      <th>6</th>\n",
       "      <td>CatBoost</td>\n",
       "      <td>0.035341</td>\n",
       "      <td>91.283</td>\n",
       "      <td>NaN</td>\n",
       "      <td>NaN</td>\n",
       "    </tr>\n",
       "  </tbody>\n",
       "</table>\n",
       "</div>"
      ],
      "text/plain": [
       "                    Model  Validation Score(Before tuning)  \\\n",
       "0       Linear Regression                         0.058461   \n",
       "1           Random Forest                         0.037823   \n",
       "2    K Nearest Neighbours                         0.038233   \n",
       "3  Support Vector Machine                         0.047936   \n",
       "4                 XGBoost                         0.040959   \n",
       "5               Light GBM                         0.036177   \n",
       "6                CatBoost                         0.035341   \n",
       "\n",
       "   Accuracy(Before tuning)  Validation Score(After tuning)  \\\n",
       "0                   77.317                             NaN   \n",
       "1                   89.921                             NaN   \n",
       "2                   89.490                             NaN   \n",
       "3                   83.838                             NaN   \n",
       "4                   87.925                             NaN   \n",
       "5                   90.781                             NaN   \n",
       "6                   91.283                             NaN   \n",
       "\n",
       "   Accuracy(After tuning)  \n",
       "0                     NaN  \n",
       "1                     NaN  \n",
       "2                     NaN  \n",
       "3                     NaN  \n",
       "4                     NaN  \n",
       "5                     NaN  \n",
       "6                     NaN  "
      ]
     },
     "execution_count": 20,
     "metadata": {},
     "output_type": "execute_result"
    }
   ],
   "source": [
    "Results = Results.append({'Model' : 'CatBoost', 'Validation Score(Before tuning)': rmsle,\n",
    "                         'Accuracy(Before tuning)': score}, ignore_index = True)\n",
    "Results"
   ]
  },
  {
   "cell_type": "code",
   "execution_count": null,
   "metadata": {},
   "outputs": [],
   "source": []
  }
 ],
 "metadata": {
  "kernelspec": {
   "display_name": "Python [conda env:py3-TF]",
   "language": "python",
   "name": "conda-env-py3-TF-py"
  },
  "language_info": {
   "codemirror_mode": {
    "name": "ipython",
    "version": 3
   },
   "file_extension": ".py",
   "mimetype": "text/x-python",
   "name": "python",
   "nbconvert_exporter": "python",
   "pygments_lexer": "ipython3",
   "version": "3.7.9"
  }
 },
 "nbformat": 4,
 "nbformat_minor": 4
}
